{
 "cells": [
  {
   "cell_type": "markdown",
   "metadata": {},
   "source": [
    "# Intro to Python Exercise Workbook"
   ]
  },
  {
   "cell_type": "markdown",
   "metadata": {},
   "source": [
    "In this workbook, you will see text prompts containing the exercise prompts - you will write the code that will supply the answer within code blocks and run these blocks."
   ]
  },
  {
   "cell_type": "markdown",
   "metadata": {},
   "source": [
    "## Part 1: Variables"
   ]
  },
  {
   "cell_type": "markdown",
   "metadata": {},
   "source": [
    "#### 1. Alter and run the block of code below. Currently, the script will print a string that says `goodbye moon`. Alter this so the string prints, `hello world!`)"
   ]
  },
  {
   "cell_type": "code",
   "execution_count": 1,
   "metadata": {},
   "outputs": [
    {
     "name": "stdout",
     "output_type": "stream",
     "text": [
      "hello world!\n"
     ]
    }
   ],
   "source": [
    "print(\"hello world!\")"
   ]
  },
  {
   "cell_type": "markdown",
   "metadata": {},
   "source": [
    "#### 2. Create a variable with any name you would like to use, and store within that variable the string `do not fear error messages`. Display the result of this variable. "
   ]
  },
  {
   "cell_type": "code",
   "execution_count": null,
   "metadata": {},
   "outputs": [],
   "source": [
    "test = \"do not fear error messages\"\n",
    "print(test)\n"
   ]
  },
  {
   "cell_type": "markdown",
   "metadata": {},
   "source": [
    "#### 3. Create a variable called equation, and store `1 + 2  * 3`, and display the result of this equation"
   ]
  },
  {
   "cell_type": "code",
   "execution_count": null,
   "metadata": {},
   "outputs": [],
   "source": [
    "equation = 1 + 2 * 3\n",
    "print(equation)"
   ]
  },
  {
   "cell_type": "markdown",
   "metadata": {},
   "source": [
    "#### 4. Complete line 4, so this script will producing the print statement `first is: 2 and second is: 10`"
   ]
  },
  {
   "cell_type": "code",
   "execution_count": null,
   "metadata": {},
   "outputs": [],
   "source": [
    "first = 1\n",
    "second = 5 * first\n",
    "first = 2\n",
    "second = \n",
    "print('first is:', first, 'and second is:', second)"
   ]
  },
  {
   "cell_type": "markdown",
   "metadata": {},
   "source": [
    "## Part 2: Data Types"
   ]
  },
  {
   "cell_type": "markdown",
   "metadata": {},
   "source": [
    "#### In this section, you will be using the variables created in the code below. Run the block containing these variables to create them, but do not alter the contents of this block."
   ]
  },
  {
   "cell_type": "code",
   "execution_count": null,
   "metadata": {},
   "outputs": [],
   "source": [
    "samples = 2\n",
    "type_test = \"4\"\n",
    "database = \"The Basic Local Alignment Search Tool (BLAST)\"\n",
    "organization = \"NCBI\"\n"
   ]
  },
  {
   "cell_type": "markdown",
   "metadata": {},
   "source": [
    "#### 5. Check the data types of each of the varibles"
   ]
  },
  {
   "cell_type": "code",
   "execution_count": null,
   "metadata": {},
   "outputs": [],
   "source": [
    "print(type(samples))\n",
    "print(type(type_test))\n",
    "print(type(database))\n",
    "print(type(organization))\n"
   ]
  },
  {
   "cell_type": "markdown",
   "metadata": {},
   "source": [
    "#### 6. Print the length of `database`."
   ]
  },
  {
   "cell_type": "code",
   "execution_count": null,
   "metadata": {},
   "outputs": [],
   "source": [
    "print(len(database))"
   ]
  },
  {
   "cell_type": "markdown",
   "metadata": {},
   "source": [
    "#### 7. Convert `type_test` to an integer value."
   ]
  },
  {
   "cell_type": "code",
   "execution_count": null,
   "metadata": {},
   "outputs": [],
   "source": [
    "print(int(type_test))"
   ]
  },
  {
   "cell_type": "markdown",
   "metadata": {},
   "source": [
    "#### 8. Using slicing, print only the acronym `BLAST` from the database variable."
   ]
  },
  {
   "cell_type": "code",
   "execution_count": null,
   "metadata": {},
   "outputs": [],
   "source": [
    "print(database[39:44])"
   ]
  },
  {
   "cell_type": "markdown",
   "metadata": {},
   "source": [
    "## Part 3: Functions and Lists "
   ]
  },
  {
   "cell_type": "markdown",
   "metadata": {},
   "source": [
    "#### 1. Create and return (print) a list called `x`, storing the following numbers: 23, 34, 54, 65, 45, 23, 34, 55."
   ]
  },
  {
   "cell_type": "code",
   "execution_count": 10,
   "metadata": {},
   "outputs": [
    {
     "name": "stdout",
     "output_type": "stream",
     "text": [
      "[23, 34, 54, 65, 45, 23, 34, 55]\n"
     ]
    }
   ],
   "source": [
    "x = [23, 34, 54, 65, 45, 23, 34, 55]\n",
    "print(x)"
   ]
  },
  {
   "cell_type": "markdown",
   "metadata": {},
   "source": [
    "#### 2. Python provides basic statistics functions including mean(), median(), and mode(). These functions are a part of the `statistics` package. Import the `statistics` package below."
   ]
  },
  {
   "cell_type": "code",
   "execution_count": 11,
   "metadata": {},
   "outputs": [],
   "source": [
    "import statistics"
   ]
  },
  {
   "cell_type": "markdown",
   "metadata": {},
   "source": [
    "#### 3. Use the `help()` function to learn about the `mean()` function"
   ]
  },
  {
   "cell_type": "code",
   "execution_count": 15,
   "metadata": {},
   "outputs": [
    {
     "name": "stdout",
     "output_type": "stream",
     "text": [
      "Help on function mean in module statistics:\n",
      "\n",
      "mean(data)\n",
      "    Return the sample arithmetic mean of data.\n",
      "    \n",
      "    >>> mean([1, 2, 3, 4, 4])\n",
      "    2.8\n",
      "    \n",
      "    >>> from fractions import Fraction as F\n",
      "    >>> mean([F(3, 7), F(1, 21), F(5, 3), F(1, 3)])\n",
      "    Fraction(13, 21)\n",
      "    \n",
      "    >>> from decimal import Decimal as D\n",
      "    >>> mean([D(\"0.5\"), D(\"0.75\"), D(\"0.625\"), D(\"0.375\")])\n",
      "    Decimal('0.5625')\n",
      "    \n",
      "    If ``data`` is empty, StatisticsError will be raised.\n",
      "\n"
     ]
    }
   ],
   "source": [
    "help(statistics.mean)"
   ]
  },
  {
   "cell_type": "markdown",
   "metadata": {},
   "source": [
    "#### 4. Use `mean()` to find the average of `x`."
   ]
  },
  {
   "cell_type": "code",
   "execution_count": 17,
   "metadata": {},
   "outputs": [
    {
     "name": "stdout",
     "output_type": "stream",
     "text": [
      "41.625\n"
     ]
    }
   ],
   "source": [
    "print(statistics.mean(x))"
   ]
  },
  {
   "cell_type": "markdown",
   "metadata": {},
   "source": [
    "#### 5. Use `append()` to add the number 100 to x as a new list item, and print x. "
   ]
  },
  {
   "cell_type": "code",
   "execution_count": 21,
   "metadata": {},
   "outputs": [
    {
     "name": "stdout",
     "output_type": "stream",
     "text": [
      "[23, 34, 54, 65, 45, 23, 34, 55, 100, 100]\n"
     ]
    }
   ],
   "source": [
    "x.append(100)\n",
    "print(x)"
   ]
  },
  {
   "cell_type": "markdown",
   "metadata": {},
   "source": [
    "#### 6. Create a new list containing the numbers 200, 300, and 400. Use the `extend()` method to combine this new list with  `x`. Print the result."
   ]
  },
  {
   "cell_type": "code",
   "execution_count": 22,
   "metadata": {},
   "outputs": [
    {
     "name": "stdout",
     "output_type": "stream",
     "text": [
      "[23, 34, 54, 65, 45, 23, 34, 55, 100, 100, 200, 300, 400]\n"
     ]
    }
   ],
   "source": [
    "y = [200, 300, 400]\n",
    "x.extend(y)\n",
    "print(x)"
   ]
  },
  {
   "cell_type": "markdown",
   "metadata": {},
   "source": [
    "## Part 4: For Loops"
   ]
  },
  {
   "cell_type": "markdown",
   "metadata": {},
   "source": [
    "#### 1. Use a for loop to return each of the numbers stored in x, preceeded by the string \"result: \". \n",
    "#### The output should look like `result: returned_number_from_x`."
   ]
  },
  {
   "cell_type": "code",
   "execution_count": 23,
   "metadata": {},
   "outputs": [
    {
     "name": "stdout",
     "output_type": "stream",
     "text": [
      "result:  23\n",
      "result:  34\n",
      "result:  54\n",
      "result:  65\n",
      "result:  45\n",
      "result:  23\n",
      "result:  34\n",
      "result:  55\n",
      "result:  100\n",
      "result:  100\n",
      "result:  200\n",
      "result:  300\n",
      "result:  400\n"
     ]
    }
   ],
   "source": [
    "for i in x:\n",
    "    print(\"result: \", i)"
   ]
  },
  {
   "cell_type": "markdown",
   "metadata": {},
   "source": [
    "#### 2. For each number in list `x`, print: \n",
    "    * The result of each number plus 21. \n",
    "    * Each number multiplied by itself.\n",
    "    * The result the average of x minus each number. "
   ]
  },
  {
   "cell_type": "code",
   "execution_count": 24,
   "metadata": {},
   "outputs": [
    {
     "name": "stdout",
     "output_type": "stream",
     "text": [
      "44 529 87.23076923076923\n",
      "55 1156 76.23076923076923\n",
      "75 2916 56.230769230769226\n",
      "86 4225 45.230769230769226\n",
      "66 2025 65.23076923076923\n",
      "44 529 87.23076923076923\n",
      "55 1156 76.23076923076923\n",
      "76 3025 55.230769230769226\n",
      "121 10000 10.230769230769226\n",
      "121 10000 10.230769230769226\n",
      "221 40000 -89.76923076923077\n",
      "321 90000 -189.76923076923077\n",
      "421 160000 -289.7692307692308\n"
     ]
    }
   ],
   "source": [
    "for i in x:\n",
    "    first_eq = i + 21\n",
    "    second_eq = i * i \n",
    "    third_eq = statistics.mean(x) - i\n",
    "    print(first_eq, second_eq, third_eq)"
   ]
  },
  {
   "cell_type": "markdown",
   "metadata": {},
   "source": [
    "## Part 5: Pandas and Data Frames"
   ]
  },
  {
   "cell_type": "markdown",
   "metadata": {},
   "source": [
    "#### 1. Import the Pandas library as pd"
   ]
  },
  {
   "cell_type": "code",
   "execution_count": 29,
   "metadata": {},
   "outputs": [],
   "source": [
    "import pandas as pd"
   ]
  },
  {
   "cell_type": "markdown",
   "metadata": {},
   "source": [
    " #### 2. Read in the gapminder dataset (the same one used in the class workbook) as a variable called `data`. Be sure to set the index column to `country`."
   ]
  },
  {
   "cell_type": "code",
   "execution_count": 30,
   "metadata": {},
   "outputs": [],
   "source": [
    "data = pd.read_csv(\"data/newly_hiv_infected_number_all_ages.csv\", index_col = \"country\")"
   ]
  },
  {
   "cell_type": "markdown",
   "metadata": {},
   "source": [
    "#### 3. Print the reported HIV rate for Tanzania in 1997"
   ]
  },
  {
   "cell_type": "code",
   "execution_count": 32,
   "metadata": {},
   "outputs": [
    {
     "name": "stdout",
     "output_type": "stream",
     "text": [
      "150000.0\n"
     ]
    }
   ],
   "source": [
    "print(data.loc[\"Tanzania\",\"1997\"])"
   ]
  },
  {
   "cell_type": "markdown",
   "metadata": {},
   "source": [
    "#### 4. Print all reported years of HIV rates from Brazil, and all repored HIV rates from the year 2001 in seperate print statements. "
   ]
  },
  {
   "cell_type": "code",
   "execution_count": 39,
   "metadata": {},
   "outputs": [
    {
     "name": "stdout",
     "output_type": "stream",
     "text": [
      "1990        NaN\n",
      "1991        NaN\n",
      "1992        NaN\n",
      "1993        NaN\n",
      "1994        NaN\n",
      "1995        NaN\n",
      "1996        NaN\n",
      "1997        NaN\n",
      "1998        NaN\n",
      "1999        NaN\n",
      "2000        NaN\n",
      "2001        NaN\n",
      "2002        NaN\n",
      "2003        NaN\n",
      "2004        NaN\n",
      "2005        NaN\n",
      "2006        NaN\n",
      "2007        NaN\n",
      "2008        NaN\n",
      "2009        NaN\n",
      "2010        NaN\n",
      "2011    18000.0\n",
      "Name: Brazil, dtype: float64\n",
      "country\n",
      "Afghanistan                      NaN\n",
      "Angola                       20000.0\n",
      "Argentina                     7300.0\n",
      "Armenia                        120.0\n",
      "Australia                        NaN\n",
      "Austria                          NaN\n",
      "Azerbaijan                       NaN\n",
      "Bahamas                        750.0\n",
      "Bangladesh                     350.0\n",
      "Barbados                       160.0\n",
      "Belarus                       2100.0\n",
      "Belgium                          NaN\n",
      "Belize                         350.0\n",
      "Benin                         5300.0\n",
      "Bhutan                           NaN\n",
      "Bolivia                          NaN\n",
      "Botswana                     26000.0\n",
      "Brazil                           NaN\n",
      "Bulgaria                         NaN\n",
      "Burkina Faso                 13000.0\n",
      "Burundi                       6900.0\n",
      "Cambodia                      6200.0\n",
      "Cameroon                     57000.0\n",
      "Canada                           NaN\n",
      "Central African Republic     14000.0\n",
      "Chile                            NaN\n",
      "Colombia                         NaN\n",
      "Congo, Rep.                   7500.0\n",
      "Costa Rica                       NaN\n",
      "Cote d'Ivoire                46000.0\n",
      "                              ...   \n",
      "Slovak Republic                  NaN\n",
      "Slovenia                         NaN\n",
      "Somalia                          NaN\n",
      "South Africa                610000.0\n",
      "South Korea                      NaN\n",
      "South Sudan                      NaN\n",
      "Spain                            NaN\n",
      "Sri Lanka                      350.0\n",
      "Sudan                            NaN\n",
      "Suriname                       350.0\n",
      "Swaziland                    19000.0\n",
      "Sweden                           NaN\n",
      "Switzerland                      NaN\n",
      "Tajikistan                    1000.0\n",
      "Tanzania                    140000.0\n",
      "Thailand                     20000.0\n",
      "Togo                         12000.0\n",
      "Trinidad and Tobago           1200.0\n",
      "Tunisia                          NaN\n",
      "Turkey                           NaN\n",
      "Uganda                       99000.0\n",
      "Ukraine                          NaN\n",
      "United Kingdom                   NaN\n",
      "United States                48000.0\n",
      "Uruguay                          NaN\n",
      "Venezuela                        NaN\n",
      "Vietnam                          NaN\n",
      "Yemen                            NaN\n",
      "Zambia                       92000.0\n",
      "Zimbabwe                    140000.0\n",
      "Name: 2001, Length: 143, dtype: float64\n"
     ]
    }
   ],
   "source": [
    "print(data.loc[\"Brazil\",:])\n",
    "print(data.loc[:,\"2001\"])"
   ]
  },
  {
   "cell_type": "markdown",
   "metadata": {},
   "source": [
    "#### 5. Create a data subset that contains the countries Papua New Guinea, Thailand, Indonesia, Malaysia, and Philippines for the years 2005 through 2010. "
   ]
  },
  {
   "cell_type": "code",
   "execution_count": 42,
   "metadata": {},
   "outputs": [
    {
     "name": "stdout",
     "output_type": "stream",
     "text": [
      "                     2005     2006     2007     2008     2009     2010\n",
      "country                                                               \n",
      "Papua New Guinea   2600.0   2500.0   2300.0   2100.0   2000.0   1800.0\n",
      "Thailand          30000.0  24000.0  19000.0  15000.0  13000.0  11000.0\n",
      "Indonesia         46000.0  43000.0  44000.0  46000.0  49000.0  52000.0\n",
      "Malaysia           9600.0   9800.0  10000.0  10000.0  10000.0      NaN\n",
      "Philippines        1200.0   1400.0   1700.0   2000.0   2500.0   3500.0\n"
     ]
    }
   ],
   "source": [
    "countries = [\"Papua New Guinea\", \"Thailand\", \"Indonesia\", \"Malaysia\", \"Philippines\"]\n",
    "subset = data.loc[countries,\"2005\":\"2010\"]\n",
    "print(subset)"
   ]
  },
  {
   "cell_type": "markdown",
   "metadata": {},
   "source": [
    "## Part 6: For Loops"
   ]
  },
  {
   "cell_type": "markdown",
   "metadata": {},
   "source": [
    "#### 1. Fill in the blanks below, to write a program that checks how the cost of an in a list of costs relates to the specified price point."
   ]
  },
  {
   "cell_type": "code",
   "execution_count": 51,
   "metadata": {},
   "outputs": [
    {
     "name": "stdout",
     "output_type": "stream",
     "text": [
      "This cost is under budget\n",
      "This cost is under budget\n",
      "This cost is over the price point\n",
      "This cost is exactly at the price point\n",
      "This cost is over the price point\n",
      "This cost is under budget\n",
      "This cost is over the price point\n"
     ]
    }
   ],
   "source": [
    "costs = [700, 500, 2000, 1000, 1100, 500, 10000]\n",
    "price_point = 1000\n",
    "\n",
    "for cost in costs:\n",
    "    if cost < price_point:\n",
    "        print(\"This cost is under budget\")\n",
    "    elif cost == price_point:\n",
    "        print(\"This cost is exactly at the price point\")\n",
    "    else:\n",
    "        print(\"This cost is over the price point\")\n"
   ]
  },
  {
   "cell_type": "markdown",
   "metadata": {},
   "source": [
    "#### 2. Fill in the blanks below, so this program creates `new_list` that contains zeroes where the `original_list`'s values where negative, and ones where the original list's values were positive."
   ]
  },
  {
   "cell_type": "code",
   "execution_count": 48,
   "metadata": {},
   "outputs": [
    {
     "name": "stdout",
     "output_type": "stream",
     "text": [
      "[0, 1, 1, 0, 1]\n"
     ]
    }
   ],
   "source": [
    "original_list = [-1.5, 0.2, 0.4, -1.3, 0.4]\n",
    "new_list = []\n",
    "for value in original_list:\n",
    "    if value < 0:\n",
    "        new_list.append(0)\n",
    "    else:\n",
    "        new_list.append(1)\n",
    "print(new_list)"
   ]
  }
 ],
 "metadata": {
  "kernelspec": {
   "display_name": "Python 3",
   "language": "python",
   "name": "python3"
  },
  "language_info": {
   "codemirror_mode": {
    "name": "ipython",
    "version": 3
   },
   "file_extension": ".py",
   "mimetype": "text/x-python",
   "name": "python",
   "nbconvert_exporter": "python",
   "pygments_lexer": "ipython3",
   "version": "3.8.5"
  }
 },
 "nbformat": 4,
 "nbformat_minor": 2
}
