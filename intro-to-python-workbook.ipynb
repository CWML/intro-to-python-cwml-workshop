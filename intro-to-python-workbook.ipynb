{
 "cells": [
  {
   "cell_type": "markdown",
   "metadata": {},
   "source": [
    "# Intro to Python"
   ]
  },
  {
   "cell_type": "markdown",
   "metadata": {},
   "source": [
    "# Variables in Python\n",
    "Variables in programming languages hold values.\n",
    "* In Python a single `=` (equals sign) assigns the value on the right to the name of the variable on the left.\n",
    "* Variables are created when a value is assigned to it.\n",
    "* In the code block below, Python assigns the numerical value `42` to a variable called `age`"
   ]
  },
  {
   "cell_type": "markdown",
   "metadata": {},
   "source": [
    "##### Creating variables"
   ]
  },
  {
   "cell_type": "code",
   "execution_count": 19,
   "metadata": {},
   "outputs": [],
   "source": [
    "helpful_articles = 42\n",
    "library = \"Cushing/Whitney Medical Library\""
   ]
  },
  {
   "cell_type": "markdown",
   "metadata": {},
   "source": [
    "##### Rules for creating variables\n",
    "* Variable names can only contain letters, digits, and underscores `_`\n",
    "* Variable names cannot start with a digit\n",
    "* Variable names are case sensitive (`library`, `Library`, and `LIBRARY`) are three different variables"
   ]
  },
  {
   "cell_type": "markdown",
   "metadata": {},
   "source": [
    "##### Use `print` to display values\n",
    "* `print` is a Python function used to read-out, display, or \"print out\" the value stored within a variable name.\n",
    "* Function in python look like this, `print()`, where the function name is followed by a set of parentheses. \n",
    "* You will provide values to the function within the parentheses. These values can also be called \"arguments\".\n",
    "* In the case of print, the values that are fed into the parentheses are the items you want to display, or print.\n",
    "* You can print the values of variables, strings, or digits.\n",
    "* You can also print multiple values in one print statement"
   ]
  },
  {
   "cell_type": "code",
   "execution_count": 20,
   "metadata": {},
   "outputs": [
    {
     "name": "stdout",
     "output_type": "stream",
     "text": [
      "42\n"
     ]
    }
   ],
   "source": [
    "print(helpful_articles)"
   ]
  },
  {
   "cell_type": "code",
   "execution_count": 21,
   "metadata": {},
   "outputs": [
    {
     "name": "stdout",
     "output_type": "stream",
     "text": [
      "102.0\n"
     ]
    }
   ],
   "source": [
    "print(100 + 2 / 3 * 3)"
   ]
  },
  {
   "cell_type": "code",
   "execution_count": 22,
   "metadata": {},
   "outputs": [
    {
     "name": "stdout",
     "output_type": "stream",
     "text": [
      "String is another word for text\n"
     ]
    }
   ],
   "source": [
    "print(\"String is another word for text\")"
   ]
  },
  {
   "cell_type": "code",
   "execution_count": 23,
   "metadata": {},
   "outputs": [
    {
     "ename": "SyntaxError",
     "evalue": "invalid syntax (<ipython-input-23-c0a89e8aae61>, line 1)",
     "output_type": "error",
     "traceback": [
      "\u001b[0;36m  File \u001b[0;32m\"<ipython-input-23-c0a89e8aae61>\"\u001b[0;36m, line \u001b[0;32m1\u001b[0m\n\u001b[0;31m    print(String is another word for text)\u001b[0m\n\u001b[0m                               ^\u001b[0m\n\u001b[0;31mSyntaxError\u001b[0m\u001b[0;31m:\u001b[0m invalid syntax\n"
     ]
    }
   ],
   "source": [
    "print(String is another word for text)"
   ]
  },
  {
   "cell_type": "code",
   "execution_count": 24,
   "metadata": {},
   "outputs": [
    {
     "name": "stdout",
     "output_type": "stream",
     "text": [
      "The Cushing/Whitney Medical Library is my favorite library\n"
     ]
    }
   ],
   "source": [
    "print(\"The\", library, \"is my favorite library\")"
   ]
  },
  {
   "cell_type": "markdown",
   "metadata": {},
   "source": [
    "##### Using variables within calculations"
   ]
  },
  {
   "cell_type": "code",
   "execution_count": 26,
   "metadata": {},
   "outputs": [
    {
     "name": "stdout",
     "output_type": "stream",
     "text": [
      "48\n"
     ]
    }
   ],
   "source": [
    "helpful_articles = helpful_articles + 3\n",
    "print(helpful_articles)"
   ]
  },
  {
   "cell_type": "markdown",
   "metadata": {},
   "source": [
    "##### Updating Variables\n",
    "* Python operates from top to bottom.\n",
    "* The value held in second will not be updated to reflect that `first = 2`, because we are not reassigning the variable"
   ]
  },
  {
   "cell_type": "code",
   "execution_count": 61,
   "metadata": {},
   "outputs": [
    {
     "name": "stdout",
     "output_type": "stream",
     "text": [
      "first is: 2 and second is: 5\n"
     ]
    }
   ],
   "source": [
    "first = 1\n",
    "second = 5 * first\n",
    "first = 2\n",
    "print('first is:', first, 'and second is:', second)"
   ]
  },
  {
   "cell_type": "markdown",
   "metadata": {},
   "source": [
    "### <font color = green> Break here for 5 minutes to complete exercises.</font>"
   ]
  },
  {
   "cell_type": "markdown",
   "metadata": {},
   "source": [
    "# Data Types in Python\n",
    "* Every value in a program has a specific type.\n",
    "* Integer(`int`): represents positive or negative whole numbers like 3 or -15.\n",
    "* Floating point (`float`): (i.e. decimal point): represents real numbers like 3.14159 or -2.5.\n",
    "* Character string (`str`): text.\n",
    "    * Written in either single quotations marks or double quotation marks (`\"\"` or `''`)\n",
    "    * The quotation marks are not printed when the string is displayed\n",
    "    \n",
    "##### Use the `type` function to find the type of a value\n",
    "* `type` workes on values and the values of variables"
   ]
  },
  {
   "cell_type": "code",
   "execution_count": 32,
   "metadata": {},
   "outputs": [
    {
     "name": "stdout",
     "output_type": "stream",
     "text": [
      "<class 'int'>\n"
     ]
    }
   ],
   "source": [
    "print(type(52))"
   ]
  },
  {
   "cell_type": "code",
   "execution_count": 33,
   "metadata": {},
   "outputs": [
    {
     "name": "stdout",
     "output_type": "stream",
     "text": [
      "<class 'str'>\n"
     ]
    }
   ],
   "source": [
    "print(type(\"some words\"))"
   ]
  },
  {
   "cell_type": "code",
   "execution_count": 34,
   "metadata": {},
   "outputs": [
    {
     "name": "stdout",
     "output_type": "stream",
     "text": [
      "penny for your thoughts\n",
      "<class 'str'>\n"
     ]
    }
   ],
   "source": [
    "message = \"penny for your thoughts\"\n",
    "print(message)\n",
    "print(type(message))"
   ]
  },
  {
   "cell_type": "code",
   "execution_count": 35,
   "metadata": {},
   "outputs": [
    {
     "name": "stdout",
     "output_type": "stream",
     "text": [
      "<class 'str'>\n"
     ]
    }
   ],
   "source": [
    "print(type(\"100\"))"
   ]
  },
  {
   "cell_type": "markdown",
   "metadata": {},
   "source": [
    "##### Data type conversions"
   ]
  },
  {
   "cell_type": "code",
   "execution_count": 38,
   "metadata": {},
   "outputs": [
    {
     "name": "stdout",
     "output_type": "stream",
     "text": [
      "<class 'str'>\n",
      "<class 'int'>\n"
     ]
    }
   ],
   "source": [
    "excel_cell = \"299182\"\n",
    "print(type(excel_cell))\n",
    "excel_cell = int(excel_cell)\n",
    "print(type(excel_cell))"
   ]
  },
  {
   "cell_type": "code",
   "execution_count": 45,
   "metadata": {},
   "outputs": [
    {
     "name": "stdout",
     "output_type": "stream",
     "text": [
      "100ish\n"
     ]
    }
   ],
   "source": [
    "number = 100\n",
    "print(str(number) + \"ish\")"
   ]
  },
  {
   "cell_type": "markdown",
   "metadata": {},
   "source": [
    "##### Strings have length and an index\n",
    "* The built-in function `len` counts the number of characters in a string\n",
    "* The characters (individual letters, numbers, spaces, etc.) within a string are ordered. For example the strings \"AB\" and \"BA\" are not the same.\n",
    "* Each position in the string is given a number - the first character is `0`, the second character is `1`, and so on. This number representing the position of a character is called an index. Note: Python indexes start from 0. "
   ]
  },
  {
   "cell_type": "code",
   "execution_count": 49,
   "metadata": {},
   "outputs": [
    {
     "name": "stdout",
     "output_type": "stream",
     "text": [
      "Cushing/Whitney Medical Library\n",
      "31\n"
     ]
    }
   ],
   "source": [
    "print(library) # let's refer to a string variable we created previously\n",
    "print(len(library))"
   ]
  },
  {
   "cell_type": "markdown",
   "metadata": {},
   "source": [
    "Of the 31 characters that make up our string, `C` should be the first one. We can check this. In C based programming languages like Python, index counting starts from 0."
   ]
  },
  {
   "cell_type": "code",
   "execution_count": 50,
   "metadata": {},
   "outputs": [
    {
     "name": "stdout",
     "output_type": "stream",
     "text": [
      "C\n"
     ]
    }
   ],
   "source": [
    "print(library[0])"
   ]
  },
  {
   "cell_type": "markdown",
   "metadata": {},
   "source": [
    "##### Use slicing to parse out a substring\n",
    "* A part of a string is called a substring. A substring can be as short as a single character.\n",
    "* An item in a list is called an element. Whenever we treat a string as a list, the string's elements are its individual characters. \n",
    "* We take a slice of a string or list using `[start:stop]`, where `start` is replaced with the index of the first element we want and `stop` is replaced by the index of the element just after the last element we want.\n",
    "* Slicing does not change the contents of the original string. The slice is a copy of part of the original string."
   ]
  },
  {
   "cell_type": "code",
   "execution_count": 60,
   "metadata": {},
   "outputs": [
    {
     "name": "stdout",
     "output_type": "stream",
     "text": [
      "Cushing/Whitney Medical Library\n",
      "Medical\n",
      "Library\n"
     ]
    }
   ],
   "source": [
    "print(library)\n",
    "print(library[16:23])\n",
    "print(library[24:31])"
   ]
  },
  {
   "cell_type": "markdown",
   "metadata": {},
   "source": [
    "### <font color = green> Break here for 5 minutes to complete exercises.</font>"
   ]
  },
  {
   "cell_type": "markdown",
   "metadata": {},
   "source": [
    "# Functions and Finding Help in Python\n",
    "* Different functions may take 0 or 1, or many arguments.\n",
    "* Functions are likely to be specific about the data type they need.\n",
    "* Functions may have default values for some arguments.\n",
    "* You can learn about functions using a `help` function.\n",
    "* Python has built-in functions, as well as many other functions that are associated with external packages. \n",
    "* You can create your own functions in Python. "
   ]
  },
  {
   "cell_type": "markdown",
   "metadata": {},
   "source": [
    "##### Functions might be able to take multiple items"
   ]
  },
  {
   "cell_type": "code",
   "execution_count": 71,
   "metadata": {},
   "outputs": [
    {
     "name": "stdout",
     "output_type": "stream",
     "text": [
      "39228\n",
      "2039\n"
     ]
    }
   ],
   "source": [
    "print(max(2039, 39228, 3948, 10029))\n",
    "print(min(2039, 39228, 3948, 10029))"
   ]
  },
  {
   "cell_type": "markdown",
   "metadata": {},
   "source": [
    "##### Functions might have default settings"
   ]
  },
  {
   "cell_type": "code",
   "execution_count": 2,
   "metadata": {},
   "outputs": [
    {
     "name": "stdout",
     "output_type": "stream",
     "text": [
      "4\n",
      "3.7\n"
     ]
    }
   ],
   "source": [
    "print(round(3.712))\n",
    "print(round(3.712, 1))"
   ]
  },
  {
   "cell_type": "markdown",
   "metadata": {},
   "source": [
    "##### Finding more information about a function"
   ]
  },
  {
   "cell_type": "code",
   "execution_count": 3,
   "metadata": {},
   "outputs": [
    {
     "name": "stdout",
     "output_type": "stream",
     "text": [
      "Help on built-in function round in module builtins:\n",
      "\n",
      "round(number, ndigits=None)\n",
      "    Round a number to a given precision in decimal digits.\n",
      "    \n",
      "    The return value is an integer if ndigits is omitted or None.  Otherwise\n",
      "    the return value has the same type as the number.  ndigits may be negative.\n",
      "\n"
     ]
    }
   ],
   "source": [
    "help(round)"
   ]
  },
  {
   "cell_type": "markdown",
   "metadata": {},
   "source": [
    "##### Access more functions by importing external libraries into a project\n",
    "\n",
    "We will discuss libraries further in a later section, but this is how you add or import a library (i.e., package) into a python project. \n",
    "* Libraries are installed once per your machine, but they need to be imported into each project you would like to use them in. \n",
    "* In order to use functions from a specific package, you need to indicate which package the function is coming from using the syntax: library_name.function_name()\n",
    "    * E.g., statistics.mode()"
   ]
  },
  {
   "cell_type": "code",
   "execution_count": 6,
   "metadata": {},
   "outputs": [
    {
     "name": "stdout",
     "output_type": "stream",
     "text": [
      "3\n"
     ]
    }
   ],
   "source": [
    "import statistics\n",
    "n = [1, 1, 2, 3, 3, 3, 3]\n",
    "s = statistics.mode(n)\n",
    "print(s)"
   ]
  },
  {
   "cell_type": "markdown",
   "metadata": {},
   "source": [
    "# Lists\n",
    "* Doing calculations with a hundred variables called `patient_001`, `patient_002`, `patient_003`, etc., would be very slow and tedious. However, if all of these patients were in a list, you can perform calculations across each item in the list in an automated way.\n",
    "* Lists store multiple values.\n",
    "* Items in a list are stored between hard brackets `[]`.\n",
    "* Values in lists are separated by commas `,`. \n",
    "\n",
    "##### Creating and returning list contents"
   ]
  },
  {
   "cell_type": "code",
   "execution_count": 77,
   "metadata": {},
   "outputs": [
    {
     "name": "stdout",
     "output_type": "stream",
     "text": [
      "Weights in list: [157, 180, 166, 150, 183, 160]\n",
      "Length of weights list: 6\n"
     ]
    }
   ],
   "source": [
    "weights = [157, 180, 166, 150, 183, 160]\n",
    "print(\"Weights in list:\", weights)\n",
    "print(\"Length of weights list:\", len(weights))"
   ]
  },
  {
   "cell_type": "markdown",
   "metadata": {},
   "source": [
    "##### Use an index to return a specific element from a list\n",
    "\n"
   ]
  },
  {
   "cell_type": "code",
   "execution_count": 79,
   "metadata": {},
   "outputs": [
    {
     "name": "stdout",
     "output_type": "stream",
     "text": [
      "First item in list: 157\n"
     ]
    }
   ],
   "source": [
    "print('First item in list:', weights[0])"
   ]
  },
  {
   "cell_type": "markdown",
   "metadata": {},
   "source": [
    "##### Use an index to replace an item in a list"
   ]
  },
  {
   "cell_type": "code",
   "execution_count": 80,
   "metadata": {},
   "outputs": [
    {
     "name": "stdout",
     "output_type": "stream",
     "text": [
      "Weights list is now: [156, 180, 166, 150, 183, 160]\n"
     ]
    }
   ],
   "source": [
    "weights[0] = 156\n",
    "print('Weights list is now:', weights)"
   ]
  },
  {
   "cell_type": "markdown",
   "metadata": {},
   "source": [
    "##### Adding (i.e. appending) items to a list\n",
    "* `append` is a \"method\" of list. Methods are like functions, but tied to a particular object.\n",
    "* Use `object_name.method_name` to call methods.\n",
    "* You can find the methods that object have associated with them by running the `help` function on the object name (eg, `help(list)`)"
   ]
  },
  {
   "cell_type": "code",
   "execution_count": 8,
   "metadata": {},
   "outputs": [
    {
     "name": "stdout",
     "output_type": "stream",
     "text": [
      "Original list: ['Elo', 'Molly', 'Charlie', 'Riley']\n",
      "List after append ['Elo', 'Molly', 'Charlie', 'Riley', 'Ben', 'Charolette']\n"
     ]
    }
   ],
   "source": [
    "names = [\"Elo\", \"Molly\", \"Charlie\", \"Riley\"]\n",
    "print(\"Original list:\", names)\n",
    "names.append(\"Ben\")\n",
    "names.append(\"Charolette\")\n",
    "print(\"List after append\", names)"
   ]
  },
  {
   "cell_type": "markdown",
   "metadata": {},
   "source": [
    "##### Combining lists together\n",
    "* You can combine lists together with another list method called `extend`"
   ]
  },
  {
   "cell_type": "code",
   "execution_count": 9,
   "metadata": {},
   "outputs": [
    {
     "name": "stdout",
     "output_type": "stream",
     "text": [
      "['Elo', 'Molly', 'Charlie', 'Riley', 'Ben', 'Charolette']\n"
     ]
    }
   ],
   "source": [
    "names_1 = [\"Elo\", \"Molly\", \"Charlie\", \"Riley\"]\n",
    "names_2 = [\"Ben\", \"Charolette\"]\n",
    "names_1.extend(names_2)\n",
    "print(names_1)"
   ]
  },
  {
   "cell_type": "markdown",
   "metadata": {},
   "source": [
    "##### Create an empty list and append items to it"
   ]
  },
  {
   "cell_type": "code",
   "execution_count": 98,
   "metadata": {},
   "outputs": [
    {
     "name": "stdout",
     "output_type": "stream",
     "text": [
      "[]\n",
      "['this is a single string']\n",
      "['this is a single string', ['this', 'is', 'a', 'few', 'strings']]\n"
     ]
    }
   ],
   "source": [
    "empty_list = []\n",
    "print(empty_list)\n",
    "empty_list.append(\"this is a single string\")\n",
    "print(empty_list)\n",
    "empty_list.append([\"this\", \"is\", \"a\", \"few\", \"strings\"])\n",
    "print(empty_list)"
   ]
  },
  {
   "cell_type": "markdown",
   "metadata": {},
   "source": [
    "### <font color = green> Break here for 5 minutes to complete the exercises in Part 3: Functions and Lists.</font>"
   ]
  },
  {
   "cell_type": "markdown",
   "metadata": {},
   "source": [
    "# For Loops\n",
    "* For loops allow you to drill down into a data structure.\n",
    "    * Operate on sentence in a paragraph, each word in a sentence, or each character in a word.\n",
    "    * Operate on each table in a database, each column in a spreadsheet, or each cell in a column. \n",
    "    * Operate on each item in a list.\n",
    "* A for loop executes commands once for each element in a set."
   ]
  },
  {
   "cell_type": "code",
   "execution_count": 10,
   "metadata": {},
   "outputs": [
    {
     "name": "stdout",
     "output_type": "stream",
     "text": [
      "2\n",
      "3\n",
      "5\n"
     ]
    }
   ],
   "source": [
    "for number in [2, 3, 5]:\n",
    "    print(number) #indentations in python are important!"
   ]
  },
  {
   "cell_type": "markdown",
   "metadata": {},
   "source": [
    "##### You can also return items in a list that has been stored as a variable"
   ]
  },
  {
   "cell_type": "code",
   "execution_count": 11,
   "metadata": {
    "scrolled": true
   },
   "outputs": [
    {
     "name": "stdout",
     "output_type": "stream",
     "text": [
      "First name: Elo\n",
      "First name: Molly\n",
      "First name: Charlie\n",
      "First name: Riley\n",
      "First name: Ben\n",
      "First name: Charolette\n"
     ]
    }
   ],
   "source": [
    "for name in names_1:\n",
    "    print('First name:', name)"
   ]
  },
  {
   "cell_type": "markdown",
   "metadata": {},
   "source": [
    "##### The body of a loop can contain many statements"
   ]
  },
  {
   "cell_type": "code",
   "execution_count": 12,
   "metadata": {},
   "outputs": [
    {
     "name": "stdout",
     "output_type": "stream",
     "text": [
      "2 102 -2\n",
      "3 103 -3\n",
      "5 105 -5\n"
     ]
    }
   ],
   "source": [
    "prime_numbers = [2, 3, 5]\n",
    "for p in prime_numbers:\n",
    "    first_equation = p + 100\n",
    "    second_equation = p * -1\n",
    "    print(p, first_equation, second_equation)"
   ]
  },
  {
   "cell_type": "markdown",
   "metadata": {},
   "source": [
    "### <font color = green> Break here for 5 minutes to complete the exercises in Part 4: For Loops.</font>"
   ]
  },
  {
   "cell_type": "markdown",
   "metadata": {},
   "source": [
    "# Python Libraries \n",
    "* A \"library\" in python is a collection of files (called modules) that contain functions for use by other programs.\n",
    "* A Python program must import a library in order to use it. You will use `import` to do this.\n",
    "* Refer to items from specific libraries as library_name.item_name.\n",
    "    * Python uses `.` to mean \"part of\"\n",
    "* Use the `help` function to learn about the contents of a library module."
   ]
  },
  {
   "cell_type": "markdown",
   "metadata": {},
   "source": [
    "# Pandas (a Python Library) and Data Frames\n",
    "* Pandas is a widely-used Python library for statistics, particularly on tabular data.\n",
    "* Pandas borrows many features from R’s dataframes.\n",
    "    * A 2-dimensional table whose columns have names and potentially have different data types.\n",
    "* Load it with import pandas as pd. The alias pd is commonly used for Pandas. Shortning pandas to pd this saves typing time. \n",
    "\n",
    "##### Import the Pandas library to this project"
   ]
  },
  {
   "cell_type": "code",
   "execution_count": 14,
   "metadata": {},
   "outputs": [],
   "source": [
    "import pandas as pd"
   ]
  },
  {
   "cell_type": "markdown",
   "metadata": {},
   "source": [
    "##### Read a Comma Separate Values (CSV) data file with pd.read_csv.\n",
    "* This imports the csv into your project and saves it as a variable called data.\n",
    "* As you work with `data`, you are not altering the original CSV file. "
   ]
  },
  {
   "cell_type": "code",
   "execution_count": 18,
   "metadata": {},
   "outputs": [
    {
     "name": "stdout",
     "output_type": "stream",
     "text": [
      "                              1990      1991      1992      1993      1994  \\\n",
      "country                                                                      \n",
      "Afghanistan                    NaN       NaN       NaN       NaN       NaN   \n",
      "Angola                      7500.0    8500.0    9500.0   11000.0   12000.0   \n",
      "Argentina                   4900.0    5400.0    5800.0    6300.0    6700.0   \n",
      "Armenia                       60.0      60.0      60.0      60.0     120.0   \n",
      "Australia                      NaN       NaN       NaN       NaN       NaN   \n",
      "Austria                        NaN       NaN       NaN       NaN       NaN   \n",
      "Azerbaijan                     NaN       NaN       NaN       NaN       NaN   \n",
      "Bahamas                      750.0     750.0     750.0     750.0     750.0   \n",
      "Bangladesh                    60.0     160.0     160.0     160.0     160.0   \n",
      "Barbados                     160.0     160.0     160.0     160.0     160.0   \n",
      "Belarus                       60.0      60.0      60.0      60.0      60.0   \n",
      "Belgium                        NaN       NaN       NaN       NaN       NaN   \n",
      "Belize                       350.0     350.0     350.0     350.0     350.0   \n",
      "Benin                       4000.0    4600.0    5200.0    6000.0    6900.0   \n",
      "Bhutan                         NaN       NaN       NaN       NaN       NaN   \n",
      "Bolivia                        NaN       NaN       NaN       NaN       NaN   \n",
      "Botswana                    8900.0   13000.0   19000.0   25000.0   31000.0   \n",
      "Brazil                         NaN       NaN       NaN       NaN       NaN   \n",
      "Bulgaria                       NaN       NaN       NaN       NaN       NaN   \n",
      "Burkina Faso               26000.0   21000.0   18000.0   18000.0   17000.0   \n",
      "Burundi                    16000.0   20000.0   26000.0   30000.0   32000.0   \n",
      "Cambodia                    9200.0   11000.0   13000.0   13000.0   12000.0   \n",
      "Cameroon                   21000.0   27000.0   33000.0   40000.0   46000.0   \n",
      "Canada                         NaN       NaN       NaN       NaN       NaN   \n",
      "Central African Republic   17000.0   25000.0   31000.0   32000.0   29000.0   \n",
      "Chile                          NaN       NaN       NaN       NaN       NaN   \n",
      "Colombia                       NaN       NaN       NaN       NaN       NaN   \n",
      "Congo, Rep.                 8400.0    6500.0    5700.0    5600.0    5800.0   \n",
      "Costa Rica                     NaN       NaN       NaN       NaN       NaN   \n",
      "Cote d'Ivoire              52000.0   72000.0   90000.0   99000.0   98000.0   \n",
      "...                            ...       ...       ...       ...       ...   \n",
      "Slovak Republic                NaN       NaN       NaN       NaN       NaN   \n",
      "Slovenia                       NaN       NaN       NaN       NaN       NaN   \n",
      "Somalia                        NaN       NaN       NaN       NaN       NaN   \n",
      "South Africa               44000.0   73000.0  120000.0  190000.0  300000.0   \n",
      "South Korea                    NaN       NaN       NaN       NaN       NaN   \n",
      "South Sudan                    NaN       NaN       NaN       NaN       NaN   \n",
      "Spain                          NaN       NaN       NaN       NaN       NaN   \n",
      "Sri Lanka                     60.0     160.0     160.0     160.0     160.0   \n",
      "Sudan                          NaN       NaN       NaN       NaN       NaN   \n",
      "Suriname                    1100.0    1200.0    1300.0    1300.0    1200.0   \n",
      "Swaziland                   4000.0    5300.0    6900.0    8700.0   11000.0   \n",
      "Sweden                         NaN       NaN       NaN       NaN       NaN   \n",
      "Switzerland                    NaN       NaN       NaN       NaN       NaN   \n",
      "Tajikistan                   160.0     160.0     350.0     350.0     350.0   \n",
      "Tanzania                  180000.0  200000.0  200000.0  200000.0  190000.0   \n",
      "Thailand                  140000.0  150000.0  120000.0   90000.0   64000.0   \n",
      "Togo                        4100.0    5900.0    8100.0   10000.0   12000.0   \n",
      "Trinidad and Tobago          750.0     750.0     750.0    1100.0    1200.0   \n",
      "Tunisia                        NaN       NaN       NaN       NaN       NaN   \n",
      "Turkey                         NaN       NaN       NaN       NaN       NaN   \n",
      "Uganda                    130000.0  120000.0  110000.0  110000.0   98000.0   \n",
      "Ukraine                        NaN       NaN       NaN       NaN       NaN   \n",
      "United Kingdom                 NaN       NaN       NaN       NaN       NaN   \n",
      "United States              88000.0   52000.0   50000.0   52000.0   49000.0   \n",
      "Uruguay                        NaN       NaN       NaN       NaN       NaN   \n",
      "Venezuela                      NaN       NaN       NaN       NaN       NaN   \n",
      "Vietnam                        NaN       NaN       NaN       NaN       NaN   \n",
      "Yemen                          NaN       NaN       NaN       NaN       NaN   \n",
      "Zambia                     85000.0   87000.0   87000.0   86000.0   85000.0   \n",
      "Zimbabwe                  180000.0  200000.0  210000.0  240000.0  260000.0   \n",
      "\n",
      "                              1995      1996      1997      1998      1999  \\\n",
      "country                                                                      \n",
      "Afghanistan                    NaN       NaN       NaN       NaN       NaN   \n",
      "Angola                     13000.0   15000.0   16000.0   17000.0   18000.0   \n",
      "Argentina                   6700.0    6700.0    6900.0    7000.0    7100.0   \n",
      "Armenia                      120.0     300.0     300.0     300.0     300.0   \n",
      "Australia                      NaN       NaN       NaN       NaN       NaN   \n",
      "Austria                        NaN       NaN       NaN       NaN       NaN   \n",
      "Azerbaijan                     NaN       NaN       NaN       NaN       NaN   \n",
      "Bahamas                      750.0     750.0     750.0     750.0     750.0   \n",
      "Bangladesh                   160.0     160.0     350.0     350.0     350.0   \n",
      "Barbados                     160.0     160.0     160.0     160.0     160.0   \n",
      "Belarus                       60.0     160.0     350.0     350.0     750.0   \n",
      "Belgium                        NaN       NaN       NaN       NaN       NaN   \n",
      "Belize                       350.0     350.0     350.0     350.0     350.0   \n",
      "Benin                       7500.0    7700.0    7300.0    6600.0    6000.0   \n",
      "Bhutan                         NaN       NaN       NaN       NaN       NaN   \n",
      "Bolivia                        NaN       NaN       NaN       NaN       NaN   \n",
      "Botswana                   36000.0   37000.0   37000.0   34000.0   31000.0   \n",
      "Brazil                         NaN       NaN       NaN       NaN       NaN   \n",
      "Bulgaria                       NaN       NaN       NaN       NaN       NaN   \n",
      "Burkina Faso               14000.0   16000.0   16000.0   12000.0   14000.0   \n",
      "Burundi                    27000.0   19000.0   14000.0    9800.0    8100.0   \n",
      "Cambodia                   11000.0   10000.0    9000.0    8700.0    7900.0   \n",
      "Cameroon                   51000.0   56000.0   59000.0   61000.0   61000.0   \n",
      "Canada                         NaN       NaN       NaN       NaN       NaN   \n",
      "Central African Republic   25000.0   22000.0   20000.0   18000.0   17000.0   \n",
      "Chile                          NaN       NaN       NaN       NaN       NaN   \n",
      "Colombia                       NaN       NaN       NaN       NaN       NaN   \n",
      "Congo, Rep.                 6000.0    6300.0    6600.0    6900.0    7100.0   \n",
      "Costa Rica                     NaN       NaN       NaN       NaN       NaN   \n",
      "Cote d'Ivoire              89000.0   78000.0   68000.0   61000.0   55000.0   \n",
      "...                            ...       ...       ...       ...       ...   \n",
      "Slovak Republic                NaN       NaN       NaN       NaN       NaN   \n",
      "Slovenia                       NaN       NaN       NaN       NaN       NaN   \n",
      "Somalia                        NaN       NaN       NaN       NaN       NaN   \n",
      "South Africa              430000.0  570000.0  680000.0  720000.0  710000.0   \n",
      "South Korea                    NaN       NaN       NaN       NaN       NaN   \n",
      "South Sudan                    NaN       NaN       NaN       NaN       NaN   \n",
      "Spain                          NaN       NaN       NaN       NaN       NaN   \n",
      "Sri Lanka                    160.0     160.0     350.0     350.0     350.0   \n",
      "Sudan                          NaN       NaN       NaN       NaN       NaN   \n",
      "Suriname                    1100.0     750.0     750.0     750.0     750.0   \n",
      "Swaziland                  13000.0   15000.0   17000.0   18000.0   19000.0   \n",
      "Sweden                         NaN       NaN       NaN       NaN       NaN   \n",
      "Switzerland                    NaN       NaN       NaN       NaN       NaN   \n",
      "Tajikistan                   350.0     750.0     750.0     750.0     750.0   \n",
      "Tanzania                  170000.0  160000.0  150000.0  140000.0  140000.0   \n",
      "Thailand                   49000.0   41000.0   34000.0   24000.0   16000.0   \n",
      "Togo                       13000.0   14000.0   14000.0   13000.0   13000.0   \n",
      "Trinidad and Tobago         1300.0    1400.0    1500.0    1400.0    1400.0   \n",
      "Tunisia                        NaN       NaN       NaN       NaN       NaN   \n",
      "Turkey                         NaN       NaN       NaN       NaN       NaN   \n",
      "Uganda                     92000.0   88000.0   87000.0   87000.0   89000.0   \n",
      "Ukraine                        NaN       NaN       NaN       NaN       NaN   \n",
      "United Kingdom                 NaN       NaN       NaN       NaN       NaN   \n",
      "United States              51000.0   66000.0   68000.0   67000.0   60000.0   \n",
      "Uruguay                        NaN       NaN       NaN       NaN       NaN   \n",
      "Venezuela                      NaN       NaN       NaN       NaN       NaN   \n",
      "Vietnam                        NaN       NaN       NaN       NaN       NaN   \n",
      "Yemen                          NaN       NaN       NaN       NaN       NaN   \n",
      "Zambia                     84000.0   84000.0   85000.0   86000.0   88000.0   \n",
      "Zimbabwe                  250000.0  240000.0  230000.0  220000.0  190000.0   \n",
      "\n",
      "                            ...         2002      2003      2004      2005  \\\n",
      "country                     ...                                              \n",
      "Afghanistan                 ...          NaN       NaN       NaN       NaN   \n",
      "Angola                      ...      21000.0   22000.0   23000.0   23000.0   \n",
      "Argentina                   ...       7400.0    7500.0    7600.0    7700.0   \n",
      "Armenia                     ...        120.0     120.0     120.0     120.0   \n",
      "Australia                   ...          NaN       NaN       NaN       NaN   \n",
      "Austria                     ...          NaN       NaN       NaN       NaN   \n",
      "Azerbaijan                  ...          NaN       NaN       NaN       NaN   \n",
      "Bahamas                     ...        750.0     750.0     750.0     750.0   \n",
      "Bangladesh                  ...        350.0     750.0     750.0     750.0   \n",
      "Barbados                    ...        160.0      60.0      60.0      60.0   \n",
      "Belarus                     ...       2800.0    3000.0    2800.0    2400.0   \n",
      "Belgium                     ...          NaN       NaN       NaN       NaN   \n",
      "Belize                      ...        350.0     350.0     350.0     350.0   \n",
      "Benin                       ...       5100.0    5000.0    5000.0    5100.0   \n",
      "Bhutan                      ...          NaN       NaN       NaN       NaN   \n",
      "Bolivia                     ...          NaN       NaN       NaN       NaN   \n",
      "Botswana                    ...      24000.0   22000.0   19000.0   17000.0   \n",
      "Brazil                      ...          NaN       NaN       NaN       NaN   \n",
      "Bulgaria                    ...          NaN       NaN       NaN       NaN   \n",
      "Burkina Faso                ...      12000.0    8500.0    7900.0    7300.0   \n",
      "Burundi                     ...       6900.0    7200.0    7400.0    6900.0   \n",
      "Cambodia                    ...       5400.0    4600.0    3800.0    3200.0   \n",
      "Cameroon                    ...      58000.0   58000.0   56000.0   54000.0   \n",
      "Canada                      ...          NaN       NaN       NaN       NaN   \n",
      "Central African Republic    ...      13000.0   11000.0   10000.0    9200.0   \n",
      "Chile                       ...          NaN       NaN       NaN       NaN   \n",
      "Colombia                    ...          NaN       NaN       NaN       NaN   \n",
      "Congo, Rep.                 ...       7500.0    7500.0    7500.0    7100.0   \n",
      "Costa Rica                  ...          NaN       NaN       NaN       NaN   \n",
      "Cote d'Ivoire               ...      42000.0   38000.0   35000.0   30000.0   \n",
      "...                         ...          ...       ...       ...       ...   \n",
      "Slovak Republic             ...          NaN       NaN       NaN       NaN   \n",
      "Slovenia                    ...          NaN       NaN       NaN       NaN   \n",
      "Somalia                     ...          NaN       NaN       NaN       NaN   \n",
      "South Africa                ...     560000.0  520000.0  500000.0  480000.0   \n",
      "South Korea                 ...          NaN       NaN       NaN       NaN   \n",
      "South Sudan                 ...          NaN       NaN       NaN       NaN   \n",
      "Spain                       ...          NaN       NaN       NaN       NaN   \n",
      "Sri Lanka                   ...        350.0     350.0     350.0     350.0   \n",
      "Sudan                       ...          NaN       NaN       NaN       NaN   \n",
      "Suriname                    ...        350.0     350.0     350.0     160.0   \n",
      "Swaziland                   ...      19000.0   19000.0   18000.0   18000.0   \n",
      "Sweden                      ...          NaN       NaN       NaN       NaN   \n",
      "Switzerland                 ...          NaN       NaN       NaN       NaN   \n",
      "Tajikistan                  ...       1000.0    1000.0    1000.0    1100.0   \n",
      "Tanzania                    ...     140000.0  140000.0  140000.0  140000.0   \n",
      "Thailand                    ...      32000.0   38000.0   36000.0   30000.0   \n",
      "Togo                        ...      11000.0   11000.0   11000.0   11000.0   \n",
      "Trinidad and Tobago         ...       1100.0    1100.0    1100.0    1000.0   \n",
      "Tunisia                     ...          NaN       NaN       NaN       NaN   \n",
      "Turkey                      ...          NaN       NaN       NaN       NaN   \n",
      "Uganda                      ...     100000.0  110000.0  120000.0  120000.0   \n",
      "Ukraine                     ...          NaN       NaN       NaN       NaN   \n",
      "United Kingdom              ...          NaN       NaN       NaN       NaN   \n",
      "United States               ...      48000.0   49000.0   49000.0   49000.0   \n",
      "Uruguay                     ...          NaN       NaN       NaN       NaN   \n",
      "Venezuela                   ...          NaN       NaN       NaN       NaN   \n",
      "Vietnam                     ...          NaN       NaN       NaN       NaN   \n",
      "Yemen                       ...          NaN       NaN       NaN       NaN   \n",
      "Zambia                      ...      94000.0   96000.0   96000.0   93000.0   \n",
      "Zimbabwe                    ...     130000.0  110000.0  110000.0  110000.0   \n",
      "\n",
      "                              2006      2007      2008      2009      2010  \\\n",
      "country                                                                      \n",
      "Afghanistan                    NaN       NaN       NaN       NaN       NaN   \n",
      "Angola                     24000.0   24000.0   24000.0   24000.0   24000.0   \n",
      "Argentina                   7700.0    7600.0    7500.0    7500.0       NaN   \n",
      "Armenia                      120.0     120.0     300.0     300.0       NaN   \n",
      "Australia                      NaN       NaN       NaN       NaN       NaN   \n",
      "Austria                        NaN       NaN       NaN       NaN       NaN   \n",
      "Azerbaijan                     NaN       NaN       NaN       NaN       NaN   \n",
      "Bahamas                      750.0     350.0     350.0     350.0     350.0   \n",
      "Bangladesh                   750.0     750.0     750.0     750.0    1100.0   \n",
      "Barbados                      60.0      60.0      60.0      60.0      60.0   \n",
      "Belarus                     2100.0    1900.0    1800.0    1800.0    1800.0   \n",
      "Belgium                        NaN       NaN       NaN       NaN       NaN   \n",
      "Belize                       350.0     350.0     350.0     350.0     350.0   \n",
      "Benin                       4800.0    4800.0    4900.0    4900.0    4900.0   \n",
      "Bhutan                         NaN       NaN       NaN       NaN       NaN   \n",
      "Bolivia                        NaN       NaN       NaN       NaN       NaN   \n",
      "Botswana                   16000.0   16000.0   15000.0   14000.0       NaN   \n",
      "Brazil                         NaN       NaN       NaN       NaN       NaN   \n",
      "Bulgaria                       NaN       NaN       NaN       NaN       NaN   \n",
      "Burkina Faso                6900.0    6900.0    7000.0    8000.0       NaN   \n",
      "Burundi                     6000.0    5100.0    4400.0    3700.0    3200.0   \n",
      "Cambodia                    2500.0    2100.0    1900.0    1400.0    1300.0   \n",
      "Cameroon                   52000.0   50000.0   47000.0   46000.0   43000.0   \n",
      "Canada                         NaN       NaN       NaN       NaN       NaN   \n",
      "Central African Republic    8100.0    6800.0    6000.0    5200.0       NaN   \n",
      "Chile                          NaN       NaN       NaN       NaN       NaN   \n",
      "Colombia                       NaN       NaN       NaN       NaN       NaN   \n",
      "Congo, Rep.                 6600.0    6500.0    6600.0    6500.0       NaN   \n",
      "Costa Rica                     NaN       NaN       NaN       NaN       NaN   \n",
      "Cote d'Ivoire              27000.0   24000.0   21000.0   17000.0       NaN   \n",
      "...                            ...       ...       ...       ...       ...   \n",
      "Slovak Republic                NaN       NaN       NaN       NaN       NaN   \n",
      "Slovenia                       NaN       NaN       NaN       NaN       NaN   \n",
      "Somalia                        NaN       NaN       NaN       NaN       NaN   \n",
      "South Africa              470000.0  460000.0  450000.0  430000.0  390000.0   \n",
      "South Korea                    NaN       NaN       NaN       NaN       NaN   \n",
      "South Sudan                    NaN       NaN       NaN       NaN       NaN   \n",
      "Spain                          NaN       NaN       NaN       NaN       NaN   \n",
      "Sri Lanka                    350.0     350.0     350.0     350.0     750.0   \n",
      "Sudan                          NaN       NaN       NaN       NaN       NaN   \n",
      "Suriname                     160.0     160.0      60.0      60.0      60.0   \n",
      "Swaziland                  17000.0   16000.0   16000.0   15000.0   14000.0   \n",
      "Sweden                         NaN       NaN       NaN       NaN       NaN   \n",
      "Switzerland                    NaN       NaN       NaN       NaN       NaN   \n",
      "Tajikistan                  1100.0    1100.0    1200.0    1300.0    1400.0   \n",
      "Tanzania                  140000.0  140000.0  140000.0  140000.0  140000.0   \n",
      "Thailand                   24000.0   19000.0   15000.0   13000.0   11000.0   \n",
      "Togo                       11000.0   11000.0   11000.0   10000.0       NaN   \n",
      "Trinidad and Tobago          750.0     750.0     750.0     750.0     750.0   \n",
      "Tunisia                        NaN       NaN       NaN       NaN       NaN   \n",
      "Turkey                         NaN       NaN       NaN       NaN       NaN   \n",
      "Uganda                    130000.0  140000.0  150000.0  150000.0  150000.0   \n",
      "Ukraine                        NaN       NaN       NaN       NaN       NaN   \n",
      "United Kingdom                 NaN       NaN       NaN       NaN       NaN   \n",
      "United States              49000.0   49000.0   49000.0   49000.0   49000.0   \n",
      "Uruguay                        NaN       NaN       NaN       NaN       NaN   \n",
      "Venezuela                      NaN       NaN       NaN       NaN       NaN   \n",
      "Vietnam                        NaN       NaN       NaN       NaN       NaN   \n",
      "Yemen                          NaN       NaN       NaN       NaN       NaN   \n",
      "Zambia                     88000.0   81000.0   72000.0   76000.0       NaN   \n",
      "Zimbabwe                  100000.0  100000.0  100000.0   95000.0   87000.0   \n",
      "\n",
      "                              2011  \n",
      "country                             \n",
      "Afghanistan                 1100.0  \n",
      "Angola                     23000.0  \n",
      "Argentina                   5600.0  \n",
      "Armenia                      350.0  \n",
      "Australia                   1100.0  \n",
      "Austria                     1200.0  \n",
      "Azerbaijan                   750.0  \n",
      "Bahamas                      350.0  \n",
      "Bangladesh                  1300.0  \n",
      "Barbados                      60.0  \n",
      "Belarus                     1900.0  \n",
      "Belgium                     1300.0  \n",
      "Belize                       350.0  \n",
      "Benin                       4900.0  \n",
      "Bhutan                       350.0  \n",
      "Bolivia                     1300.0  \n",
      "Botswana                       NaN  \n",
      "Brazil                     18000.0  \n",
      "Bulgaria                     350.0  \n",
      "Burkina Faso                   NaN  \n",
      "Burundi                     3000.0  \n",
      "Cambodia                    1100.0  \n",
      "Cameroon                   43000.0  \n",
      "Canada                      2600.0  \n",
      "Central African Republic       NaN  \n",
      "Chile                       2400.0  \n",
      "Colombia                   11000.0  \n",
      "Congo, Rep.                    NaN  \n",
      "Costa Rica                   750.0  \n",
      "Cote d'Ivoire                  NaN  \n",
      "...                            ...  \n",
      "Slovak Republic               60.0  \n",
      "Slovenia                      60.0  \n",
      "Somalia                     3600.0  \n",
      "South Africa              380000.0  \n",
      "South Korea                  750.0  \n",
      "South Sudan                16000.0  \n",
      "Spain                       3400.0  \n",
      "Sri Lanka                    750.0  \n",
      "Sudan                       8600.0  \n",
      "Suriname                      60.0  \n",
      "Swaziland                  13000.0  \n",
      "Sweden                       350.0  \n",
      "Switzerland                  750.0  \n",
      "Tajikistan                  1500.0  \n",
      "Tanzania                  150000.0  \n",
      "Thailand                    9700.0  \n",
      "Togo                           NaN  \n",
      "Trinidad and Tobago          750.0  \n",
      "Tunisia                      350.0  \n",
      "Turkey                       350.0  \n",
      "Uganda                    150000.0  \n",
      "Ukraine                     3500.0  \n",
      "United Kingdom              2500.0  \n",
      "United States              49000.0  \n",
      "Uruguay                     1000.0  \n",
      "Venezuela                   7300.0  \n",
      "Vietnam                    21000.0  \n",
      "Yemen                       2600.0  \n",
      "Zambia                         NaN  \n",
      "Zimbabwe                   74000.0  \n",
      "\n",
      "[143 rows x 22 columns]\n"
     ]
    }
   ],
   "source": [
    "import requests \n",
    "import io\n",
    "#This line indicates the url where the csv file is stored on GitHub\n",
    "url=\"https://raw.githubusercontent.com/CWML/intro-to-python-cwml-workshop/master/data/newly_hiv_infected_number_all_ages.csv\"\n",
    "#The next line retreives the content stored by the url\n",
    "file=requests.get(url).content\n",
    "#This last line creates a variable called \"data\" and decodes the utf-8 character encoding\n",
    "data = pd.read_csv(io.StringIO(file.decode('utf-8')), index_col = \"country\")\n",
    "print(data)"
   ]
  },
  {
   "cell_type": "code",
   "execution_count": 19,
   "metadata": {},
   "outputs": [
    {
     "name": "stdout",
     "output_type": "stream",
     "text": [
      "<class 'pandas.core.frame.DataFrame'>\n",
      "Index: 143 entries, Afghanistan to Zimbabwe\n",
      "Data columns (total 22 columns):\n",
      "1990    68 non-null float64\n",
      "1991    68 non-null float64\n",
      "1992    68 non-null float64\n",
      "1993    68 non-null float64\n",
      "1994    68 non-null float64\n",
      "1995    68 non-null float64\n",
      "1996    68 non-null float64\n",
      "1997    68 non-null float64\n",
      "1998    68 non-null float64\n",
      "1999    68 non-null float64\n",
      "2000    68 non-null float64\n",
      "2001    68 non-null float64\n",
      "2002    68 non-null float64\n",
      "2003    68 non-null float64\n",
      "2004    68 non-null float64\n",
      "2005    68 non-null float64\n",
      "2006    68 non-null float64\n",
      "2007    68 non-null float64\n",
      "2008    68 non-null float64\n",
      "2009    68 non-null float64\n",
      "2010    49 non-null float64\n",
      "2011    132 non-null float64\n",
      "dtypes: float64(22)\n",
      "memory usage: 25.7+ KB\n"
     ]
    }
   ],
   "source": [
    "data.info()"
   ]
  },
  {
   "cell_type": "markdown",
   "metadata": {},
   "source": [
    "##### Use `DataFrame.loc[... , ...]` to select values by their index labels.\n",
    "* The position before the comma indicates the row, and the position after the comma indicates the column returned. \n",
    "* Fill in both spaces before and after the comma to return a single cell (sample of 1 country during one year). \n",
    "* Indicate only the first position (with a `:` in the second position) to return an entire row (country) from the data frame.\n",
    "* Indicate only the second position (with a `:` in the first position) to return an entire column (year) from the data frame."
   ]
  },
  {
   "cell_type": "code",
   "execution_count": 32,
   "metadata": {},
   "outputs": [
    {
     "name": "stdout",
     "output_type": "stream",
     "text": [
      "7900.0\n"
     ]
    }
   ],
   "source": [
    "print(data.loc[\"France\",\"1995\"])"
   ]
  },
  {
   "cell_type": "code",
   "execution_count": 34,
   "metadata": {},
   "outputs": [
    {
     "name": "stdout",
     "output_type": "stream",
     "text": [
      "1990    5900.0\n",
      "1991    6500.0\n",
      "1992    7000.0\n",
      "1993    7200.0\n",
      "1994    7600.0\n",
      "1995    7900.0\n",
      "1996    8000.0\n",
      "1997    7600.0\n",
      "1998    7100.0\n",
      "1999    6700.0\n",
      "2000    5900.0\n",
      "2001    5300.0\n",
      "2002    5300.0\n",
      "2003    5300.0\n",
      "2004    5300.0\n",
      "2005    5300.0\n",
      "2006    5300.0\n",
      "2007    5300.0\n",
      "2008    5300.0\n",
      "2009    5900.0\n",
      "2010    6000.0\n",
      "2011    6100.0\n",
      "Name: France, dtype: float64\n"
     ]
    }
   ],
   "source": [
    "print(data.loc[\"France\",:])"
   ]
  },
  {
   "cell_type": "code",
   "execution_count": 35,
   "metadata": {},
   "outputs": [
    {
     "name": "stdout",
     "output_type": "stream",
     "text": [
      "country\n",
      "Afghanistan                      NaN\n",
      "Angola                       13000.0\n",
      "Argentina                     6700.0\n",
      "Armenia                        120.0\n",
      "Australia                        NaN\n",
      "Austria                          NaN\n",
      "Azerbaijan                       NaN\n",
      "Bahamas                        750.0\n",
      "Bangladesh                     160.0\n",
      "Barbados                       160.0\n",
      "Belarus                         60.0\n",
      "Belgium                          NaN\n",
      "Belize                         350.0\n",
      "Benin                         7500.0\n",
      "Bhutan                           NaN\n",
      "Bolivia                          NaN\n",
      "Botswana                     36000.0\n",
      "Brazil                           NaN\n",
      "Bulgaria                         NaN\n",
      "Burkina Faso                 14000.0\n",
      "Burundi                      27000.0\n",
      "Cambodia                     11000.0\n",
      "Cameroon                     51000.0\n",
      "Canada                           NaN\n",
      "Central African Republic     25000.0\n",
      "Chile                            NaN\n",
      "Colombia                         NaN\n",
      "Congo, Rep.                   6000.0\n",
      "Costa Rica                       NaN\n",
      "Cote d'Ivoire                89000.0\n",
      "                              ...   \n",
      "Slovak Republic                  NaN\n",
      "Slovenia                         NaN\n",
      "Somalia                          NaN\n",
      "South Africa                430000.0\n",
      "South Korea                      NaN\n",
      "South Sudan                      NaN\n",
      "Spain                            NaN\n",
      "Sri Lanka                      160.0\n",
      "Sudan                            NaN\n",
      "Suriname                      1100.0\n",
      "Swaziland                    13000.0\n",
      "Sweden                           NaN\n",
      "Switzerland                      NaN\n",
      "Tajikistan                     350.0\n",
      "Tanzania                    170000.0\n",
      "Thailand                     49000.0\n",
      "Togo                         13000.0\n",
      "Trinidad and Tobago           1300.0\n",
      "Tunisia                          NaN\n",
      "Turkey                           NaN\n",
      "Uganda                       92000.0\n",
      "Ukraine                          NaN\n",
      "United Kingdom                   NaN\n",
      "United States                51000.0\n",
      "Uruguay                          NaN\n",
      "Venezuela                        NaN\n",
      "Vietnam                          NaN\n",
      "Yemen                            NaN\n",
      "Zambia                       84000.0\n",
      "Zimbabwe                    250000.0\n",
      "Name: 1995, Length: 143, dtype: float64\n"
     ]
    }
   ],
   "source": [
    "print(data.loc[:,\"1995\"])"
   ]
  },
  {
   "cell_type": "markdown",
   "metadata": {},
   "source": [
    "##### Use `DataFrame.loc[... , ...]` to select multiple columns or rows"
   ]
  },
  {
   "cell_type": "code",
   "execution_count": 40,
   "metadata": {},
   "outputs": [
    {
     "name": "stdout",
     "output_type": "stream",
     "text": [
      "                 2005     2006     2007     2008     2009     2010     2011\n",
      "country                                                                    \n",
      "Angola        23000.0  24000.0  24000.0  24000.0  24000.0  24000.0  23000.0\n",
      "Argentina      7700.0   7700.0   7600.0   7500.0   7500.0      NaN   5600.0\n",
      "Armenia         120.0    120.0    120.0    300.0    300.0      NaN    350.0\n",
      "Australia         NaN      NaN      NaN      NaN      NaN      NaN   1100.0\n",
      "Austria           NaN      NaN      NaN      NaN      NaN      NaN   1200.0\n",
      "Azerbaijan        NaN      NaN      NaN      NaN      NaN      NaN    750.0\n",
      "Bahamas         750.0    750.0    350.0    350.0    350.0    350.0    350.0\n",
      "Bangladesh      750.0    750.0    750.0    750.0    750.0   1100.0   1300.0\n",
      "Barbados         60.0     60.0     60.0     60.0     60.0     60.0     60.0\n",
      "Belarus        2400.0   2100.0   1900.0   1800.0   1800.0   1800.0   1900.0\n",
      "Belgium           NaN      NaN      NaN      NaN      NaN      NaN   1300.0\n",
      "Belize          350.0    350.0    350.0    350.0    350.0    350.0    350.0\n",
      "Benin          5100.0   4800.0   4800.0   4900.0   4900.0   4900.0   4900.0\n",
      "Bhutan            NaN      NaN      NaN      NaN      NaN      NaN    350.0\n",
      "Bolivia           NaN      NaN      NaN      NaN      NaN      NaN   1300.0\n",
      "Botswana      17000.0  16000.0  16000.0  15000.0  14000.0      NaN      NaN\n",
      "Brazil            NaN      NaN      NaN      NaN      NaN      NaN  18000.0\n",
      "Bulgaria          NaN      NaN      NaN      NaN      NaN      NaN    350.0\n",
      "Burkina Faso   7300.0   6900.0   6900.0   7000.0   8000.0      NaN      NaN\n",
      "Burundi        6900.0   6000.0   5100.0   4400.0   3700.0   3200.0   3000.0\n",
      "Cambodia       3200.0   2500.0   2100.0   1900.0   1400.0   1300.0   1100.0\n",
      "Cameroon      54000.0  52000.0  50000.0  47000.0  46000.0  43000.0  43000.0\n"
     ]
    }
   ],
   "source": [
    "print(data.loc[\"Angola\":\"Cameroon\", \"2005\":\"2011\"])"
   ]
  },
  {
   "cell_type": "markdown",
   "metadata": {},
   "source": [
    "##### Use `DataFrame.loc[... , ...]` to call a customized subset"
   ]
  },
  {
   "cell_type": "code",
   "execution_count": 43,
   "metadata": {},
   "outputs": [
    {
     "name": "stdout",
     "output_type": "stream",
     "text": [
      "                  1990     1995     2000     2005     2010\n",
      "country                                                   \n",
      "Canada             NaN      NaN      NaN      NaN      NaN\n",
      "United States  88000.0  51000.0  52000.0  49000.0  49000.0\n",
      "Mexico         11000.0  12000.0  13000.0  12000.0  10000.0\n"
     ]
    }
   ],
   "source": [
    "north_america = [\"Canada\", \"United States\", \"Mexico\"]\n",
    "every_five = [\"1990\", \"1995\", \"2000\", \"2005\", \"2010\"]\n",
    "subset = data.loc[north_america,every_five]\n",
    "print(subset)"
   ]
  },
  {
   "cell_type": "markdown",
   "metadata": {},
   "source": [
    "##### Summarizing data subsets"
   ]
  },
  {
   "cell_type": "code",
   "execution_count": 44,
   "metadata": {},
   "outputs": [
    {
     "name": "stdout",
     "output_type": "stream",
     "text": [
      "               1990          1995          2000          2005          2010\n",
      "count      2.000000      2.000000      2.000000      2.000000      2.000000\n",
      "mean   49500.000000  31500.000000  32500.000000  30500.000000  29500.000000\n",
      "std    54447.222151  27577.164466  27577.164466  26162.950904  27577.164466\n",
      "min    11000.000000  12000.000000  13000.000000  12000.000000  10000.000000\n",
      "25%    30250.000000  21750.000000  22750.000000  21250.000000  19750.000000\n",
      "50%    49500.000000  31500.000000  32500.000000  30500.000000  29500.000000\n",
      "75%    68750.000000  41250.000000  42250.000000  39750.000000  39250.000000\n",
      "max    88000.000000  51000.000000  52000.000000  49000.000000  49000.000000\n"
     ]
    }
   ],
   "source": [
    "print(subset.describe())"
   ]
  },
  {
   "cell_type": "markdown",
   "metadata": {},
   "source": [
    "##### Finding elements where rates per year are higher than average. This returns a TRUE or FALSE boolean."
   ]
  },
  {
   "cell_type": "code",
   "execution_count": 53,
   "metadata": {},
   "outputs": [
    {
     "name": "stdout",
     "output_type": "stream",
     "text": [
      "                           1990   1991   1992   1993   1994   1995   1996  \\\n",
      "country                                                                     \n",
      "Afghanistan               False  False  False  False  False  False  False   \n",
      "Angola                    False  False  False  False  False  False  False   \n",
      "Argentina                 False  False  False  False  False  False  False   \n",
      "Armenia                   False  False  False  False  False  False  False   \n",
      "Australia                 False  False  False  False  False  False  False   \n",
      "Austria                   False  False  False  False  False  False  False   \n",
      "Azerbaijan                False  False  False  False  False  False  False   \n",
      "Bahamas                   False  False  False  False  False  False  False   \n",
      "Bangladesh                False  False  False  False  False  False  False   \n",
      "Barbados                  False  False  False  False  False  False  False   \n",
      "Belarus                   False  False  False  False  False  False  False   \n",
      "Belgium                   False  False  False  False  False  False  False   \n",
      "Belize                    False  False  False  False  False  False  False   \n",
      "Benin                     False  False  False  False  False  False  False   \n",
      "Bhutan                    False  False  False  False  False  False  False   \n",
      "Bolivia                   False  False  False  False  False  False  False   \n",
      "Botswana                  False  False  False  False  False  False  False   \n",
      "Brazil                    False  False  False  False  False  False  False   \n",
      "Bulgaria                  False  False  False  False  False  False  False   \n",
      "Burkina Faso               True  False  False  False  False  False  False   \n",
      "Burundi                   False  False  False  False  False  False  False   \n",
      "Cambodia                  False  False  False  False  False  False  False   \n",
      "Cameroon                  False  False   True   True   True   True   True   \n",
      "Canada                    False  False  False  False  False  False  False   \n",
      "Central African Republic  False  False  False  False  False  False  False   \n",
      "Chile                     False  False  False  False  False  False  False   \n",
      "Colombia                  False  False  False  False  False  False  False   \n",
      "Congo, Rep.               False  False  False  False  False  False  False   \n",
      "Costa Rica                False  False  False  False  False  False  False   \n",
      "Cote d'Ivoire              True   True   True   True   True   True   True   \n",
      "...                         ...    ...    ...    ...    ...    ...    ...   \n",
      "Slovak Republic           False  False  False  False  False  False  False   \n",
      "Slovenia                  False  False  False  False  False  False  False   \n",
      "Somalia                   False  False  False  False  False  False  False   \n",
      "South Africa               True   True   True   True   True   True   True   \n",
      "South Korea               False  False  False  False  False  False  False   \n",
      "South Sudan               False  False  False  False  False  False  False   \n",
      "Spain                     False  False  False  False  False  False  False   \n",
      "Sri Lanka                 False  False  False  False  False  False  False   \n",
      "Sudan                     False  False  False  False  False  False  False   \n",
      "Suriname                  False  False  False  False  False  False  False   \n",
      "Swaziland                 False  False  False  False  False  False  False   \n",
      "Sweden                    False  False  False  False  False  False  False   \n",
      "Switzerland               False  False  False  False  False  False  False   \n",
      "Tajikistan                False  False  False  False  False  False  False   \n",
      "Tanzania                   True   True   True   True   True   True   True   \n",
      "Thailand                   True   True   True   True   True   True  False   \n",
      "Togo                      False  False  False  False  False  False  False   \n",
      "Trinidad and Tobago       False  False  False  False  False  False  False   \n",
      "Tunisia                   False  False  False  False  False  False  False   \n",
      "Turkey                    False  False  False  False  False  False  False   \n",
      "Uganda                     True   True   True   True   True   True   True   \n",
      "Ukraine                   False  False  False  False  False  False  False   \n",
      "United Kingdom            False  False  False  False  False  False  False   \n",
      "United States              True   True   True   True   True   True   True   \n",
      "Uruguay                   False  False  False  False  False  False  False   \n",
      "Venezuela                 False  False  False  False  False  False  False   \n",
      "Vietnam                   False  False  False  False  False  False  False   \n",
      "Yemen                     False  False  False  False  False  False  False   \n",
      "Zambia                     True   True   True   True   True   True   True   \n",
      "Zimbabwe                   True   True   True   True   True   True   True   \n",
      "\n",
      "                           1997   1998   1999  ...     2002   2003   2004  \\\n",
      "country                                        ...                          \n",
      "Afghanistan               False  False  False  ...    False  False  False   \n",
      "Angola                    False  False  False  ...    False  False  False   \n",
      "Argentina                 False  False  False  ...    False  False  False   \n",
      "Armenia                   False  False  False  ...    False  False  False   \n",
      "Australia                 False  False  False  ...    False  False  False   \n",
      "Austria                   False  False  False  ...    False  False  False   \n",
      "Azerbaijan                False  False  False  ...    False  False  False   \n",
      "Bahamas                   False  False  False  ...    False  False  False   \n",
      "Bangladesh                False  False  False  ...    False  False  False   \n",
      "Barbados                  False  False  False  ...    False  False  False   \n",
      "Belarus                   False  False  False  ...    False  False  False   \n",
      "Belgium                   False  False  False  ...    False  False  False   \n",
      "Belize                    False  False  False  ...    False  False  False   \n",
      "Benin                     False  False  False  ...    False  False  False   \n",
      "Bhutan                    False  False  False  ...    False  False  False   \n",
      "Bolivia                   False  False  False  ...    False  False  False   \n",
      "Botswana                  False  False  False  ...    False  False  False   \n",
      "Brazil                    False  False  False  ...    False  False  False   \n",
      "Bulgaria                  False  False  False  ...    False  False  False   \n",
      "Burkina Faso              False  False  False  ...    False  False  False   \n",
      "Burundi                   False  False  False  ...    False  False  False   \n",
      "Cambodia                  False  False  False  ...    False  False  False   \n",
      "Cameroon                   True   True   True  ...     True   True   True   \n",
      "Canada                    False  False  False  ...    False  False  False   \n",
      "Central African Republic  False  False  False  ...    False  False  False   \n",
      "Chile                     False  False  False  ...    False  False  False   \n",
      "Colombia                  False  False  False  ...    False  False  False   \n",
      "Congo, Rep.               False  False  False  ...    False  False  False   \n",
      "Costa Rica                False  False  False  ...    False  False  False   \n",
      "Cote d'Ivoire              True   True   True  ...     True   True  False   \n",
      "...                         ...    ...    ...  ...      ...    ...    ...   \n",
      "Slovak Republic           False  False  False  ...    False  False  False   \n",
      "Slovenia                  False  False  False  ...    False  False  False   \n",
      "Somalia                   False  False  False  ...    False  False  False   \n",
      "South Africa               True   True   True  ...     True   True   True   \n",
      "South Korea               False  False  False  ...    False  False  False   \n",
      "South Sudan               False  False  False  ...    False  False  False   \n",
      "Spain                     False  False  False  ...    False  False  False   \n",
      "Sri Lanka                 False  False  False  ...    False  False  False   \n",
      "Sudan                     False  False  False  ...    False  False  False   \n",
      "Suriname                  False  False  False  ...    False  False  False   \n",
      "Swaziland                 False  False  False  ...    False  False  False   \n",
      "Sweden                    False  False  False  ...    False  False  False   \n",
      "Switzerland               False  False  False  ...    False  False  False   \n",
      "Tajikistan                False  False  False  ...    False  False  False   \n",
      "Tanzania                   True   True   True  ...     True   True   True   \n",
      "Thailand                  False  False  False  ...    False   True  False   \n",
      "Togo                      False  False  False  ...    False  False  False   \n",
      "Trinidad and Tobago       False  False  False  ...    False  False  False   \n",
      "Tunisia                   False  False  False  ...    False  False  False   \n",
      "Turkey                    False  False  False  ...    False  False  False   \n",
      "Uganda                     True   True   True  ...     True   True   True   \n",
      "Ukraine                   False  False  False  ...    False  False  False   \n",
      "United Kingdom            False  False  False  ...    False  False  False   \n",
      "United States              True   True   True  ...     True   True   True   \n",
      "Uruguay                   False  False  False  ...    False  False  False   \n",
      "Venezuela                 False  False  False  ...    False  False  False   \n",
      "Vietnam                   False  False  False  ...    False  False  False   \n",
      "Yemen                     False  False  False  ...    False  False  False   \n",
      "Zambia                     True   True   True  ...     True   True   True   \n",
      "Zimbabwe                   True   True   True  ...     True   True   True   \n",
      "\n",
      "                           2005   2006   2007   2008   2009   2010   2011  \n",
      "country                                                                    \n",
      "Afghanistan               False  False  False  False  False  False  False  \n",
      "Angola                    False  False  False  False  False  False   True  \n",
      "Argentina                 False  False  False  False  False  False  False  \n",
      "Armenia                   False  False  False  False  False  False  False  \n",
      "Australia                 False  False  False  False  False  False  False  \n",
      "Austria                   False  False  False  False  False  False  False  \n",
      "Azerbaijan                False  False  False  False  False  False  False  \n",
      "Bahamas                   False  False  False  False  False  False  False  \n",
      "Bangladesh                False  False  False  False  False  False  False  \n",
      "Barbados                  False  False  False  False  False  False  False  \n",
      "Belarus                   False  False  False  False  False  False  False  \n",
      "Belgium                   False  False  False  False  False  False  False  \n",
      "Belize                    False  False  False  False  False  False  False  \n",
      "Benin                     False  False  False  False  False  False  False  \n",
      "Bhutan                    False  False  False  False  False  False  False  \n",
      "Bolivia                   False  False  False  False  False  False  False  \n",
      "Botswana                  False  False  False  False  False  False  False  \n",
      "Brazil                    False  False  False  False  False  False   True  \n",
      "Bulgaria                  False  False  False  False  False  False  False  \n",
      "Burkina Faso              False  False  False  False  False  False  False  \n",
      "Burundi                   False  False  False  False  False  False  False  \n",
      "Cambodia                  False  False  False  False  False  False  False  \n",
      "Cameroon                   True   True   True   True   True   True   True  \n",
      "Canada                    False  False  False  False  False  False  False  \n",
      "Central African Republic  False  False  False  False  False  False  False  \n",
      "Chile                     False  False  False  False  False  False  False  \n",
      "Colombia                  False  False  False  False  False  False  False  \n",
      "Congo, Rep.               False  False  False  False  False  False  False  \n",
      "Costa Rica                False  False  False  False  False  False  False  \n",
      "Cote d'Ivoire             False  False  False  False  False  False  False  \n",
      "...                         ...    ...    ...    ...    ...    ...    ...  \n",
      "Slovak Republic           False  False  False  False  False  False  False  \n",
      "Slovenia                  False  False  False  False  False  False  False  \n",
      "Somalia                   False  False  False  False  False  False  False  \n",
      "South Africa               True   True   True   True   True   True   True  \n",
      "South Korea               False  False  False  False  False  False  False  \n",
      "South Sudan               False  False  False  False  False  False   True  \n",
      "Spain                     False  False  False  False  False  False  False  \n",
      "Sri Lanka                 False  False  False  False  False  False  False  \n",
      "Sudan                     False  False  False  False  False  False  False  \n",
      "Suriname                  False  False  False  False  False  False  False  \n",
      "Swaziland                 False  False  False  False  False  False  False  \n",
      "Sweden                    False  False  False  False  False  False  False  \n",
      "Switzerland               False  False  False  False  False  False  False  \n",
      "Tajikistan                False  False  False  False  False  False  False  \n",
      "Tanzania                   True   True   True   True   True   True   True  \n",
      "Thailand                  False  False  False  False  False  False  False  \n",
      "Togo                      False  False  False  False  False  False  False  \n",
      "Trinidad and Tobago       False  False  False  False  False  False  False  \n",
      "Tunisia                   False  False  False  False  False  False  False  \n",
      "Turkey                    False  False  False  False  False  False  False  \n",
      "Uganda                     True   True   True   True   True   True   True  \n",
      "Ukraine                   False  False  False  False  False  False  False  \n",
      "United Kingdom            False  False  False  False  False  False  False  \n",
      "United States              True   True   True   True   True   True   True  \n",
      "Uruguay                   False  False  False  False  False  False  False  \n",
      "Venezuela                 False  False  False  False  False  False  False  \n",
      "Vietnam                   False  False  False  False  False  False   True  \n",
      "Yemen                     False  False  False  False  False  False  False  \n",
      "Zambia                     True   True   True   True   True  False  False  \n",
      "Zimbabwe                   True   True   True   True   True   True   True  \n",
      "\n",
      "[143 rows x 22 columns]\n"
     ]
    }
   ],
   "source": [
    "print(data > data.mean())"
   ]
  },
  {
   "cell_type": "code",
   "execution_count": 55,
   "metadata": {},
   "outputs": [
    {
     "name": "stdout",
     "output_type": "stream",
     "text": [
      "                              1990      1991      1992      1993      1994  \\\n",
      "country                                                                      \n",
      "Afghanistan                    NaN       NaN       NaN       NaN       NaN   \n",
      "Angola                         NaN       NaN       NaN       NaN       NaN   \n",
      "Argentina                      NaN       NaN       NaN       NaN       NaN   \n",
      "Armenia                        NaN       NaN       NaN       NaN       NaN   \n",
      "Australia                      NaN       NaN       NaN       NaN       NaN   \n",
      "Austria                        NaN       NaN       NaN       NaN       NaN   \n",
      "Azerbaijan                     NaN       NaN       NaN       NaN       NaN   \n",
      "Bahamas                        NaN       NaN       NaN       NaN       NaN   \n",
      "Bangladesh                     NaN       NaN       NaN       NaN       NaN   \n",
      "Barbados                       NaN       NaN       NaN       NaN       NaN   \n",
      "Belarus                        NaN       NaN       NaN       NaN       NaN   \n",
      "Belgium                        NaN       NaN       NaN       NaN       NaN   \n",
      "Belize                         NaN       NaN       NaN       NaN       NaN   \n",
      "Benin                          NaN       NaN       NaN       NaN       NaN   \n",
      "Bhutan                         NaN       NaN       NaN       NaN       NaN   \n",
      "Bolivia                        NaN       NaN       NaN       NaN       NaN   \n",
      "Botswana                       NaN       NaN       NaN       NaN       NaN   \n",
      "Brazil                         NaN       NaN       NaN       NaN       NaN   \n",
      "Bulgaria                       NaN       NaN       NaN       NaN       NaN   \n",
      "Burkina Faso               26000.0       NaN       NaN       NaN       NaN   \n",
      "Burundi                        NaN       NaN       NaN       NaN       NaN   \n",
      "Cambodia                       NaN       NaN       NaN       NaN       NaN   \n",
      "Cameroon                       NaN       NaN   33000.0   40000.0   46000.0   \n",
      "Canada                         NaN       NaN       NaN       NaN       NaN   \n",
      "Central African Republic       NaN       NaN       NaN       NaN       NaN   \n",
      "Chile                          NaN       NaN       NaN       NaN       NaN   \n",
      "Colombia                       NaN       NaN       NaN       NaN       NaN   \n",
      "Congo, Rep.                    NaN       NaN       NaN       NaN       NaN   \n",
      "Costa Rica                     NaN       NaN       NaN       NaN       NaN   \n",
      "Cote d'Ivoire              52000.0   72000.0   90000.0   99000.0   98000.0   \n",
      "...                            ...       ...       ...       ...       ...   \n",
      "Slovak Republic                NaN       NaN       NaN       NaN       NaN   \n",
      "Slovenia                       NaN       NaN       NaN       NaN       NaN   \n",
      "Somalia                        NaN       NaN       NaN       NaN       NaN   \n",
      "South Africa               44000.0   73000.0  120000.0  190000.0  300000.0   \n",
      "South Korea                    NaN       NaN       NaN       NaN       NaN   \n",
      "South Sudan                    NaN       NaN       NaN       NaN       NaN   \n",
      "Spain                          NaN       NaN       NaN       NaN       NaN   \n",
      "Sri Lanka                      NaN       NaN       NaN       NaN       NaN   \n",
      "Sudan                          NaN       NaN       NaN       NaN       NaN   \n",
      "Suriname                       NaN       NaN       NaN       NaN       NaN   \n",
      "Swaziland                      NaN       NaN       NaN       NaN       NaN   \n",
      "Sweden                         NaN       NaN       NaN       NaN       NaN   \n",
      "Switzerland                    NaN       NaN       NaN       NaN       NaN   \n",
      "Tajikistan                     NaN       NaN       NaN       NaN       NaN   \n",
      "Tanzania                  180000.0  200000.0  200000.0  200000.0  190000.0   \n",
      "Thailand                  140000.0  150000.0  120000.0   90000.0   64000.0   \n",
      "Togo                           NaN       NaN       NaN       NaN       NaN   \n",
      "Trinidad and Tobago            NaN       NaN       NaN       NaN       NaN   \n",
      "Tunisia                        NaN       NaN       NaN       NaN       NaN   \n",
      "Turkey                         NaN       NaN       NaN       NaN       NaN   \n",
      "Uganda                    130000.0  120000.0  110000.0  110000.0   98000.0   \n",
      "Ukraine                        NaN       NaN       NaN       NaN       NaN   \n",
      "United Kingdom                 NaN       NaN       NaN       NaN       NaN   \n",
      "United States              88000.0   52000.0   50000.0   52000.0   49000.0   \n",
      "Uruguay                        NaN       NaN       NaN       NaN       NaN   \n",
      "Venezuela                      NaN       NaN       NaN       NaN       NaN   \n",
      "Vietnam                        NaN       NaN       NaN       NaN       NaN   \n",
      "Yemen                          NaN       NaN       NaN       NaN       NaN   \n",
      "Zambia                     85000.0   87000.0   87000.0   86000.0   85000.0   \n",
      "Zimbabwe                  180000.0  200000.0  210000.0  240000.0  260000.0   \n",
      "\n",
      "                              1995      1996      1997      1998      1999  \\\n",
      "country                                                                      \n",
      "Afghanistan                    NaN       NaN       NaN       NaN       NaN   \n",
      "Angola                         NaN       NaN       NaN       NaN       NaN   \n",
      "Argentina                      NaN       NaN       NaN       NaN       NaN   \n",
      "Armenia                        NaN       NaN       NaN       NaN       NaN   \n",
      "Australia                      NaN       NaN       NaN       NaN       NaN   \n",
      "Austria                        NaN       NaN       NaN       NaN       NaN   \n",
      "Azerbaijan                     NaN       NaN       NaN       NaN       NaN   \n",
      "Bahamas                        NaN       NaN       NaN       NaN       NaN   \n",
      "Bangladesh                     NaN       NaN       NaN       NaN       NaN   \n",
      "Barbados                       NaN       NaN       NaN       NaN       NaN   \n",
      "Belarus                        NaN       NaN       NaN       NaN       NaN   \n",
      "Belgium                        NaN       NaN       NaN       NaN       NaN   \n",
      "Belize                         NaN       NaN       NaN       NaN       NaN   \n",
      "Benin                          NaN       NaN       NaN       NaN       NaN   \n",
      "Bhutan                         NaN       NaN       NaN       NaN       NaN   \n",
      "Bolivia                        NaN       NaN       NaN       NaN       NaN   \n",
      "Botswana                       NaN       NaN       NaN       NaN       NaN   \n",
      "Brazil                         NaN       NaN       NaN       NaN       NaN   \n",
      "Bulgaria                       NaN       NaN       NaN       NaN       NaN   \n",
      "Burkina Faso                   NaN       NaN       NaN       NaN       NaN   \n",
      "Burundi                        NaN       NaN       NaN       NaN       NaN   \n",
      "Cambodia                       NaN       NaN       NaN       NaN       NaN   \n",
      "Cameroon                   51000.0   56000.0   59000.0   61000.0   61000.0   \n",
      "Canada                         NaN       NaN       NaN       NaN       NaN   \n",
      "Central African Republic       NaN       NaN       NaN       NaN       NaN   \n",
      "Chile                          NaN       NaN       NaN       NaN       NaN   \n",
      "Colombia                       NaN       NaN       NaN       NaN       NaN   \n",
      "Congo, Rep.                    NaN       NaN       NaN       NaN       NaN   \n",
      "Costa Rica                     NaN       NaN       NaN       NaN       NaN   \n",
      "Cote d'Ivoire              89000.0   78000.0   68000.0   61000.0   55000.0   \n",
      "...                            ...       ...       ...       ...       ...   \n",
      "Slovak Republic                NaN       NaN       NaN       NaN       NaN   \n",
      "Slovenia                       NaN       NaN       NaN       NaN       NaN   \n",
      "Somalia                        NaN       NaN       NaN       NaN       NaN   \n",
      "South Africa              430000.0  570000.0  680000.0  720000.0  710000.0   \n",
      "South Korea                    NaN       NaN       NaN       NaN       NaN   \n",
      "South Sudan                    NaN       NaN       NaN       NaN       NaN   \n",
      "Spain                          NaN       NaN       NaN       NaN       NaN   \n",
      "Sri Lanka                      NaN       NaN       NaN       NaN       NaN   \n",
      "Sudan                          NaN       NaN       NaN       NaN       NaN   \n",
      "Suriname                       NaN       NaN       NaN       NaN       NaN   \n",
      "Swaziland                      NaN       NaN       NaN       NaN       NaN   \n",
      "Sweden                         NaN       NaN       NaN       NaN       NaN   \n",
      "Switzerland                    NaN       NaN       NaN       NaN       NaN   \n",
      "Tajikistan                     NaN       NaN       NaN       NaN       NaN   \n",
      "Tanzania                  170000.0  160000.0  150000.0  140000.0  140000.0   \n",
      "Thailand                   49000.0       NaN       NaN       NaN       NaN   \n",
      "Togo                           NaN       NaN       NaN       NaN       NaN   \n",
      "Trinidad and Tobago            NaN       NaN       NaN       NaN       NaN   \n",
      "Tunisia                        NaN       NaN       NaN       NaN       NaN   \n",
      "Turkey                         NaN       NaN       NaN       NaN       NaN   \n",
      "Uganda                     92000.0   88000.0   87000.0   87000.0   89000.0   \n",
      "Ukraine                        NaN       NaN       NaN       NaN       NaN   \n",
      "United Kingdom                 NaN       NaN       NaN       NaN       NaN   \n",
      "United States              51000.0   66000.0   68000.0   67000.0   60000.0   \n",
      "Uruguay                        NaN       NaN       NaN       NaN       NaN   \n",
      "Venezuela                      NaN       NaN       NaN       NaN       NaN   \n",
      "Vietnam                        NaN       NaN       NaN       NaN       NaN   \n",
      "Yemen                          NaN       NaN       NaN       NaN       NaN   \n",
      "Zambia                     84000.0   84000.0   85000.0   86000.0   88000.0   \n",
      "Zimbabwe                  250000.0  240000.0  230000.0  220000.0  190000.0   \n",
      "\n",
      "                            ...         2002      2003      2004      2005  \\\n",
      "country                     ...                                              \n",
      "Afghanistan                 ...          NaN       NaN       NaN       NaN   \n",
      "Angola                      ...          NaN       NaN       NaN       NaN   \n",
      "Argentina                   ...          NaN       NaN       NaN       NaN   \n",
      "Armenia                     ...          NaN       NaN       NaN       NaN   \n",
      "Australia                   ...          NaN       NaN       NaN       NaN   \n",
      "Austria                     ...          NaN       NaN       NaN       NaN   \n",
      "Azerbaijan                  ...          NaN       NaN       NaN       NaN   \n",
      "Bahamas                     ...          NaN       NaN       NaN       NaN   \n",
      "Bangladesh                  ...          NaN       NaN       NaN       NaN   \n",
      "Barbados                    ...          NaN       NaN       NaN       NaN   \n",
      "Belarus                     ...          NaN       NaN       NaN       NaN   \n",
      "Belgium                     ...          NaN       NaN       NaN       NaN   \n",
      "Belize                      ...          NaN       NaN       NaN       NaN   \n",
      "Benin                       ...          NaN       NaN       NaN       NaN   \n",
      "Bhutan                      ...          NaN       NaN       NaN       NaN   \n",
      "Bolivia                     ...          NaN       NaN       NaN       NaN   \n",
      "Botswana                    ...          NaN       NaN       NaN       NaN   \n",
      "Brazil                      ...          NaN       NaN       NaN       NaN   \n",
      "Bulgaria                    ...          NaN       NaN       NaN       NaN   \n",
      "Burkina Faso                ...          NaN       NaN       NaN       NaN   \n",
      "Burundi                     ...          NaN       NaN       NaN       NaN   \n",
      "Cambodia                    ...          NaN       NaN       NaN       NaN   \n",
      "Cameroon                    ...      58000.0   58000.0   56000.0   54000.0   \n",
      "Canada                      ...          NaN       NaN       NaN       NaN   \n",
      "Central African Republic    ...          NaN       NaN       NaN       NaN   \n",
      "Chile                       ...          NaN       NaN       NaN       NaN   \n",
      "Colombia                    ...          NaN       NaN       NaN       NaN   \n",
      "Congo, Rep.                 ...          NaN       NaN       NaN       NaN   \n",
      "Costa Rica                  ...          NaN       NaN       NaN       NaN   \n",
      "Cote d'Ivoire               ...      42000.0   38000.0       NaN       NaN   \n",
      "...                         ...          ...       ...       ...       ...   \n",
      "Slovak Republic             ...          NaN       NaN       NaN       NaN   \n",
      "Slovenia                    ...          NaN       NaN       NaN       NaN   \n",
      "Somalia                     ...          NaN       NaN       NaN       NaN   \n",
      "South Africa                ...     560000.0  520000.0  500000.0  480000.0   \n",
      "South Korea                 ...          NaN       NaN       NaN       NaN   \n",
      "South Sudan                 ...          NaN       NaN       NaN       NaN   \n",
      "Spain                       ...          NaN       NaN       NaN       NaN   \n",
      "Sri Lanka                   ...          NaN       NaN       NaN       NaN   \n",
      "Sudan                       ...          NaN       NaN       NaN       NaN   \n",
      "Suriname                    ...          NaN       NaN       NaN       NaN   \n",
      "Swaziland                   ...          NaN       NaN       NaN       NaN   \n",
      "Sweden                      ...          NaN       NaN       NaN       NaN   \n",
      "Switzerland                 ...          NaN       NaN       NaN       NaN   \n",
      "Tajikistan                  ...          NaN       NaN       NaN       NaN   \n",
      "Tanzania                    ...     140000.0  140000.0  140000.0  140000.0   \n",
      "Thailand                    ...          NaN   38000.0       NaN       NaN   \n",
      "Togo                        ...          NaN       NaN       NaN       NaN   \n",
      "Trinidad and Tobago         ...          NaN       NaN       NaN       NaN   \n",
      "Tunisia                     ...          NaN       NaN       NaN       NaN   \n",
      "Turkey                      ...          NaN       NaN       NaN       NaN   \n",
      "Uganda                      ...     100000.0  110000.0  120000.0  120000.0   \n",
      "Ukraine                     ...          NaN       NaN       NaN       NaN   \n",
      "United Kingdom              ...          NaN       NaN       NaN       NaN   \n",
      "United States               ...      48000.0   49000.0   49000.0   49000.0   \n",
      "Uruguay                     ...          NaN       NaN       NaN       NaN   \n",
      "Venezuela                   ...          NaN       NaN       NaN       NaN   \n",
      "Vietnam                     ...          NaN       NaN       NaN       NaN   \n",
      "Yemen                       ...          NaN       NaN       NaN       NaN   \n",
      "Zambia                      ...      94000.0   96000.0   96000.0   93000.0   \n",
      "Zimbabwe                    ...     130000.0  110000.0  110000.0  110000.0   \n",
      "\n",
      "                              2006      2007      2008      2009      2010  \\\n",
      "country                                                                      \n",
      "Afghanistan                    NaN       NaN       NaN       NaN       NaN   \n",
      "Angola                         NaN       NaN       NaN       NaN       NaN   \n",
      "Argentina                      NaN       NaN       NaN       NaN       NaN   \n",
      "Armenia                        NaN       NaN       NaN       NaN       NaN   \n",
      "Australia                      NaN       NaN       NaN       NaN       NaN   \n",
      "Austria                        NaN       NaN       NaN       NaN       NaN   \n",
      "Azerbaijan                     NaN       NaN       NaN       NaN       NaN   \n",
      "Bahamas                        NaN       NaN       NaN       NaN       NaN   \n",
      "Bangladesh                     NaN       NaN       NaN       NaN       NaN   \n",
      "Barbados                       NaN       NaN       NaN       NaN       NaN   \n",
      "Belarus                        NaN       NaN       NaN       NaN       NaN   \n",
      "Belgium                        NaN       NaN       NaN       NaN       NaN   \n",
      "Belize                         NaN       NaN       NaN       NaN       NaN   \n",
      "Benin                          NaN       NaN       NaN       NaN       NaN   \n",
      "Bhutan                         NaN       NaN       NaN       NaN       NaN   \n",
      "Bolivia                        NaN       NaN       NaN       NaN       NaN   \n",
      "Botswana                       NaN       NaN       NaN       NaN       NaN   \n",
      "Brazil                         NaN       NaN       NaN       NaN       NaN   \n",
      "Bulgaria                       NaN       NaN       NaN       NaN       NaN   \n",
      "Burkina Faso                   NaN       NaN       NaN       NaN       NaN   \n",
      "Burundi                        NaN       NaN       NaN       NaN       NaN   \n",
      "Cambodia                       NaN       NaN       NaN       NaN       NaN   \n",
      "Cameroon                   52000.0   50000.0   47000.0   46000.0   43000.0   \n",
      "Canada                         NaN       NaN       NaN       NaN       NaN   \n",
      "Central African Republic       NaN       NaN       NaN       NaN       NaN   \n",
      "Chile                          NaN       NaN       NaN       NaN       NaN   \n",
      "Colombia                       NaN       NaN       NaN       NaN       NaN   \n",
      "Congo, Rep.                    NaN       NaN       NaN       NaN       NaN   \n",
      "Costa Rica                     NaN       NaN       NaN       NaN       NaN   \n",
      "Cote d'Ivoire                  NaN       NaN       NaN       NaN       NaN   \n",
      "...                            ...       ...       ...       ...       ...   \n",
      "Slovak Republic                NaN       NaN       NaN       NaN       NaN   \n",
      "Slovenia                       NaN       NaN       NaN       NaN       NaN   \n",
      "Somalia                        NaN       NaN       NaN       NaN       NaN   \n",
      "South Africa              470000.0  460000.0  450000.0  430000.0  390000.0   \n",
      "South Korea                    NaN       NaN       NaN       NaN       NaN   \n",
      "South Sudan                    NaN       NaN       NaN       NaN       NaN   \n",
      "Spain                          NaN       NaN       NaN       NaN       NaN   \n",
      "Sri Lanka                      NaN       NaN       NaN       NaN       NaN   \n",
      "Sudan                          NaN       NaN       NaN       NaN       NaN   \n",
      "Suriname                       NaN       NaN       NaN       NaN       NaN   \n",
      "Swaziland                      NaN       NaN       NaN       NaN       NaN   \n",
      "Sweden                         NaN       NaN       NaN       NaN       NaN   \n",
      "Switzerland                    NaN       NaN       NaN       NaN       NaN   \n",
      "Tajikistan                     NaN       NaN       NaN       NaN       NaN   \n",
      "Tanzania                  140000.0  140000.0  140000.0  140000.0  140000.0   \n",
      "Thailand                       NaN       NaN       NaN       NaN       NaN   \n",
      "Togo                           NaN       NaN       NaN       NaN       NaN   \n",
      "Trinidad and Tobago            NaN       NaN       NaN       NaN       NaN   \n",
      "Tunisia                        NaN       NaN       NaN       NaN       NaN   \n",
      "Turkey                         NaN       NaN       NaN       NaN       NaN   \n",
      "Uganda                    130000.0  140000.0  150000.0  150000.0  150000.0   \n",
      "Ukraine                        NaN       NaN       NaN       NaN       NaN   \n",
      "United Kingdom                 NaN       NaN       NaN       NaN       NaN   \n",
      "United States              49000.0   49000.0   49000.0   49000.0   49000.0   \n",
      "Uruguay                        NaN       NaN       NaN       NaN       NaN   \n",
      "Venezuela                      NaN       NaN       NaN       NaN       NaN   \n",
      "Vietnam                        NaN       NaN       NaN       NaN       NaN   \n",
      "Yemen                          NaN       NaN       NaN       NaN       NaN   \n",
      "Zambia                     88000.0   81000.0   72000.0   76000.0       NaN   \n",
      "Zimbabwe                  100000.0  100000.0  100000.0   95000.0   87000.0   \n",
      "\n",
      "                              2011  \n",
      "country                             \n",
      "Afghanistan                    NaN  \n",
      "Angola                     23000.0  \n",
      "Argentina                      NaN  \n",
      "Armenia                        NaN  \n",
      "Australia                      NaN  \n",
      "Austria                        NaN  \n",
      "Azerbaijan                     NaN  \n",
      "Bahamas                        NaN  \n",
      "Bangladesh                     NaN  \n",
      "Barbados                       NaN  \n",
      "Belarus                        NaN  \n",
      "Belgium                        NaN  \n",
      "Belize                         NaN  \n",
      "Benin                          NaN  \n",
      "Bhutan                         NaN  \n",
      "Bolivia                        NaN  \n",
      "Botswana                       NaN  \n",
      "Brazil                     18000.0  \n",
      "Bulgaria                       NaN  \n",
      "Burkina Faso                   NaN  \n",
      "Burundi                        NaN  \n",
      "Cambodia                       NaN  \n",
      "Cameroon                   43000.0  \n",
      "Canada                         NaN  \n",
      "Central African Republic       NaN  \n",
      "Chile                          NaN  \n",
      "Colombia                       NaN  \n",
      "Congo, Rep.                    NaN  \n",
      "Costa Rica                     NaN  \n",
      "Cote d'Ivoire                  NaN  \n",
      "...                            ...  \n",
      "Slovak Republic                NaN  \n",
      "Slovenia                       NaN  \n",
      "Somalia                        NaN  \n",
      "South Africa              380000.0  \n",
      "South Korea                    NaN  \n",
      "South Sudan                16000.0  \n",
      "Spain                          NaN  \n",
      "Sri Lanka                      NaN  \n",
      "Sudan                          NaN  \n",
      "Suriname                       NaN  \n",
      "Swaziland                      NaN  \n",
      "Sweden                         NaN  \n",
      "Switzerland                    NaN  \n",
      "Tajikistan                     NaN  \n",
      "Tanzania                  150000.0  \n",
      "Thailand                       NaN  \n",
      "Togo                           NaN  \n",
      "Trinidad and Tobago            NaN  \n",
      "Tunisia                        NaN  \n",
      "Turkey                         NaN  \n",
      "Uganda                    150000.0  \n",
      "Ukraine                        NaN  \n",
      "United Kingdom                 NaN  \n",
      "United States              49000.0  \n",
      "Uruguay                        NaN  \n",
      "Venezuela                      NaN  \n",
      "Vietnam                    21000.0  \n",
      "Yemen                          NaN  \n",
      "Zambia                         NaN  \n",
      "Zimbabwe                   74000.0  \n",
      "\n",
      "[143 rows x 22 columns]\n"
     ]
    }
   ],
   "source": [
    "filter = data > data.mean()\n",
    "print(data[filter])"
   ]
  },
  {
   "cell_type": "markdown",
   "metadata": {},
   "source": [
    "##### Return countries that have reported numbers that are higher than average every year."
   ]
  },
  {
   "cell_type": "code",
   "execution_count": 63,
   "metadata": {
    "scrolled": false
   },
   "outputs": [
    {
     "name": "stdout",
     "output_type": "stream",
     "text": [
      "                   1990      1991      1992      1993      1994      1995  \\\n",
      "country                                                                     \n",
      "Kenya          120000.0  170000.0  240000.0  280000.0  280000.0  250000.0   \n",
      "Malawi          79000.0   85000.0   88000.0   89000.0   88000.0   90000.0   \n",
      "Nigeria         96000.0  140000.0  180000.0  230000.0  280000.0  320000.0   \n",
      "South Africa    44000.0   73000.0  120000.0  190000.0  300000.0  430000.0   \n",
      "Tanzania       180000.0  200000.0  200000.0  200000.0  190000.0  170000.0   \n",
      "Uganda         130000.0  120000.0  110000.0  110000.0   98000.0   92000.0   \n",
      "United States   88000.0   52000.0   50000.0   52000.0   49000.0   51000.0   \n",
      "Zimbabwe       180000.0  200000.0  210000.0  240000.0  260000.0  250000.0   \n",
      "\n",
      "                   1996      1997      1998      1999    ...         2002  \\\n",
      "country                                                  ...                \n",
      "Kenya          210000.0  170000.0  150000.0  140000.0    ...     130000.0   \n",
      "Malawi          96000.0  100000.0  100000.0  100000.0    ...     100000.0   \n",
      "Nigeria        340000.0  340000.0  350000.0  350000.0    ...     300000.0   \n",
      "South Africa   570000.0  680000.0  720000.0  710000.0    ...     560000.0   \n",
      "Tanzania       160000.0  150000.0  140000.0  140000.0    ...     140000.0   \n",
      "Uganda          88000.0   87000.0   87000.0   89000.0    ...     100000.0   \n",
      "United States   66000.0   68000.0   67000.0   60000.0    ...      48000.0   \n",
      "Zimbabwe       240000.0  230000.0  220000.0  190000.0    ...     130000.0   \n",
      "\n",
      "                   2003      2004      2005      2006      2007      2008  \\\n",
      "country                                                                     \n",
      "Kenya          130000.0  130000.0  120000.0  120000.0  130000.0  120000.0   \n",
      "Malawi         100000.0   96000.0   90000.0   82000.0   73000.0   63000.0   \n",
      "Nigeria        290000.0  290000.0  300000.0  320000.0  330000.0  340000.0   \n",
      "South Africa   520000.0  500000.0  480000.0  470000.0  460000.0  450000.0   \n",
      "Tanzania       140000.0  140000.0  140000.0  140000.0  140000.0  140000.0   \n",
      "Uganda         110000.0  120000.0  120000.0  130000.0  140000.0  150000.0   \n",
      "United States   49000.0   49000.0   49000.0   49000.0   49000.0   49000.0   \n",
      "Zimbabwe       110000.0  110000.0  110000.0  100000.0  100000.0  100000.0   \n",
      "\n",
      "                   2009      2010      2011  \n",
      "country                                      \n",
      "Kenya          120000.0  110000.0  100000.0  \n",
      "Malawi          58000.0   51000.0   46000.0  \n",
      "Nigeria        360000.0  380000.0  340000.0  \n",
      "South Africa   430000.0  390000.0  380000.0  \n",
      "Tanzania       140000.0  140000.0  150000.0  \n",
      "Uganda         150000.0  150000.0  150000.0  \n",
      "United States   49000.0   49000.0   49000.0  \n",
      "Zimbabwe        95000.0   87000.0   74000.0  \n",
      "\n",
      "[8 rows x 22 columns]\n",
      "                1990           1991           1992          1993  \\\n",
      "count       8.000000       8.000000       8.000000       8.00000   \n",
      "mean   114625.000000  130000.000000  149750.000000  173875.00000   \n",
      "std     47996.837693   57268.789805   67021.851447   80945.19751   \n",
      "min     44000.000000   52000.000000   50000.000000   52000.00000   \n",
      "25%     85750.000000   82000.000000  104500.000000  104750.00000   \n",
      "50%    108000.000000  130000.000000  150000.000000  195000.00000   \n",
      "75%    142500.000000  177500.000000  202500.000000  232500.00000   \n",
      "max    180000.000000  200000.000000  240000.000000  280000.00000   \n",
      "\n",
      "                1994           1995           1996           1997  \\\n",
      "count       8.000000       8.000000       8.000000       8.000000   \n",
      "mean   193125.000000  206625.000000  221250.000000  228125.000000   \n",
      "std    101327.527638  130282.042946  167972.574292  202895.073164   \n",
      "min     49000.000000   51000.000000   66000.000000   68000.000000   \n",
      "25%     95500.000000   91500.000000   94000.000000   96750.000000   \n",
      "50%    225000.000000  210000.000000  185000.000000  160000.000000   \n",
      "75%    280000.000000  267500.000000  265000.000000  257500.000000   \n",
      "max    300000.000000  430000.000000  570000.000000  680000.000000   \n",
      "\n",
      "                1998           1999      ...                 2002  \\\n",
      "count       8.000000       8.000000      ...             8.000000   \n",
      "mean   229250.000000  222375.000000      ...        188500.000000   \n",
      "std    218113.175079  216404.342114      ...        166924.277101   \n",
      "min     67000.000000   60000.000000      ...         48000.000000   \n",
      "25%     96750.000000   97250.000000      ...        100000.000000   \n",
      "50%    145000.000000  140000.000000      ...        130000.000000   \n",
      "75%    252500.000000  230000.000000      ...        180000.000000   \n",
      "max    720000.000000  710000.000000      ...        560000.000000   \n",
      "\n",
      "               2003           2004           2005           2006  \\\n",
      "count       8.00000       8.000000       8.000000       8.000000   \n",
      "mean   181125.00000  179375.000000  176125.000000  176375.000000   \n",
      "std    153600.07208  147024.718524  143048.880257  143656.273793   \n",
      "min     49000.00000   49000.000000   49000.000000   49000.000000   \n",
      "25%    107500.00000  106500.000000  105000.000000   95500.000000   \n",
      "50%    120000.00000  125000.000000  120000.000000  125000.000000   \n",
      "75%    177500.00000  177500.000000  180000.000000  185000.000000   \n",
      "max    520000.00000  500000.000000  480000.000000  470000.000000   \n",
      "\n",
      "                2007           2008           2009          2010  \\\n",
      "count       8.000000       8.000000       8.000000       8.00000   \n",
      "mean   177750.000000  176500.000000  175250.000000  169625.00000   \n",
      "std    142211.864082  142303.498602  141466.553341  137887.05264   \n",
      "min     49000.000000   49000.000000   49000.000000   49000.00000   \n",
      "25%     93250.000000   90750.000000   85750.000000   78000.00000   \n",
      "50%    135000.000000  130000.000000  130000.000000  125000.00000   \n",
      "75%    187500.000000  197500.000000  202500.000000  207500.00000   \n",
      "max    460000.000000  450000.000000  430000.000000  390000.00000   \n",
      "\n",
      "                2011  \n",
      "count       8.000000  \n",
      "mean   161125.000000  \n",
      "std    129450.969759  \n",
      "min     46000.000000  \n",
      "25%     67750.000000  \n",
      "50%    125000.000000  \n",
      "75%    197500.000000  \n",
      "max    380000.000000  \n",
      "\n",
      "[8 rows x 22 columns]\n"
     ]
    }
   ],
   "source": [
    "higher_than_average = data[filter]\n",
    "always_higher_than_average = higher_than_average.dropna() #drops rows with 1 or more NAN value\n",
    "print(always_higher_than_average)\n",
    "print(always_higher_than_average.describe())"
   ]
  },
  {
   "cell_type": "markdown",
   "metadata": {},
   "source": [
    "##### Use .iloc to subset the dataframe"
   ]
  },
  {
   "cell_type": "code",
   "execution_count": 77,
   "metadata": {},
   "outputs": [
    {
     "name": "stdout",
     "output_type": "stream",
     "text": [
      "               1990     1991     1992     1993     1994\n",
      "country                                                \n",
      "Mozambique  25000.0  33000.0  43000.0  55000.0  67000.0\n",
      "Myanmar     14000.0  13000.0  13000.0  16000.0  17000.0\n",
      "Namibia      3800.0   5200.0   7200.0   9800.0  13000.0\n",
      "Nepal         350.0    350.0    750.0   1000.0   1500.0\n"
     ]
    }
   ],
   "source": [
    "subset = data.iloc[88:92,:5] #.iloc uses numerical indexes instead of row or column names like .loc does\n",
    "print(subset)"
   ]
  },
  {
   "cell_type": "markdown",
   "metadata": {},
   "source": [
    "##### Perform calculations over columns"
   ]
  },
  {
   "cell_type": "code",
   "execution_count": 87,
   "metadata": {},
   "outputs": [
    {
     "name": "stdout",
     "output_type": "stream",
     "text": [
      "1990:\n",
      " country\n",
      "Mozambique    25000.0\n",
      "Myanmar       14000.0\n",
      "Namibia        3800.0\n",
      "Nepal           350.0\n",
      "Name: 1990, dtype: float64 \n",
      "1994: \n",
      " country\n",
      "Mozambique    67000.0\n",
      "Myanmar       17000.0\n",
      "Namibia       13000.0\n",
      "Nepal          1500.0\n",
      "Name: 1994, dtype: float64\n",
      "diff: \n",
      " country\n",
      "Mozambique    42000.0\n",
      "Myanmar        3000.0\n",
      "Namibia        9200.0\n",
      "Nepal          1150.0\n",
      "dtype: float64\n"
     ]
    }
   ],
   "source": [
    "print(\"1990:\\n\", subset.loc[:, \"1990\"],\"\\n1994: \\n\", subset.loc[:, \"1994\"])\n",
    "print(\"diff: \\n\", subset.loc[:, \"1994\"] - subset.loc[:, \"1990\"])"
   ]
  },
  {
   "cell_type": "markdown",
   "metadata": {},
   "source": [
    "### <font color = green> Break here for 5 minutes to complete the exercises in Part 5: Pandas and Data Frames.</font>"
   ]
  },
  {
   "cell_type": "markdown",
   "metadata": {},
   "source": [
    "# Conditional Statements\n",
    "* An `if` statement (more properly called a conditional statement) controls whether a block of code is executed or not. \n",
    "* The structure of an `if` statement is similar to that of a `for` loop:\n",
    "    * The first line opens with `if` and ends with a colon `:`\n",
    "    * The body containing one or more statements is indented (by 4 spaces or a tab)"
   ]
  },
  {
   "cell_type": "code",
   "execution_count": 90,
   "metadata": {},
   "outputs": [
    {
     "name": "stdout",
     "output_type": "stream",
     "text": [
      "42 is the answer to the meaning of life\n",
      "10 is not the answer to the meaning of life\n"
     ]
    }
   ],
   "source": [
    "result = 42\n",
    "if result == 42:\n",
    "    print(result, \"is the answer to the meaning of life and the universe\")\n",
    "\n",
    "result = 10\n",
    "if result < 42:\n",
    "    print(result, \"is not the answer to the meaning of life\")"
   ]
  },
  {
   "cell_type": "markdown",
   "metadata": {},
   "source": [
    "##### Conditionals are often used within `for` loops"
   ]
  },
  {
   "cell_type": "code",
   "execution_count": 92,
   "metadata": {},
   "outputs": [
    {
     "name": "stdout",
     "output_type": "stream",
     "text": [
      "43 is larger than average\n",
      "50 is larger than average\n",
      "42 is larger than average\n"
     ]
    }
   ],
   "source": [
    "results = [10, 20, 12, 43, 50, 42]\n",
    "for result in results:\n",
    "    if result > statistics.mean(results):\n",
    "        print(result, \"is larger than average\")"
   ]
  },
  {
   "cell_type": "markdown",
   "metadata": {},
   "source": [
    "##### Use `else` within a to execute a block of code when an `if` condition is *not* true "
   ]
  },
  {
   "cell_type": "code",
   "execution_count": 93,
   "metadata": {},
   "outputs": [
    {
     "name": "stdout",
     "output_type": "stream",
     "text": [
      "10 is smaller than average\n",
      "20 is smaller than average\n",
      "12 is smaller than average\n",
      "43 is larger than average\n",
      "50 is larger than average\n",
      "42 is larger than average\n"
     ]
    }
   ],
   "source": [
    "for result in results: \n",
    "    if result > statistics.mean(results):\n",
    "        print(result, \"is larger than average\")\n",
    "    else:\n",
    "        print(result, \"is smaller than average\")"
   ]
  },
  {
   "cell_type": "markdown",
   "metadata": {},
   "source": [
    "##### Use `elif` to add additional tests"
   ]
  },
  {
   "cell_type": "code",
   "execution_count": 95,
   "metadata": {},
   "outputs": [
    {
     "name": "stdout",
     "output_type": "stream",
     "text": [
      "10 is too small\n",
      "20 is too small\n",
      "12 is too small\n",
      "43 is too large\n",
      "50 is too large\n",
      "42 is the answer to the meaning of life and the universe\n"
     ]
    }
   ],
   "source": [
    "for result in results: \n",
    "    if result > 42:\n",
    "        print(result, \"is too large\")\n",
    "    elif result < 42:\n",
    "        print(result, \"is too small\")\n",
    "    else:\n",
    "        print(result, \"is the answer to the meaning of life and the universe\")"
   ]
  },
  {
   "cell_type": "markdown",
   "metadata": {},
   "source": [
    "### <font color = green> Break here for 5 minutes to complete the exercises in Part 6: For Loops, and to wrap up any other exercises you would like to work on.</font>"
   ]
  }
 ],
 "metadata": {
  "kernelspec": {
   "display_name": "Python 3",
   "language": "python",
   "name": "python3"
  },
  "language_info": {
   "codemirror_mode": {
    "name": "ipython",
    "version": 3
   },
   "file_extension": ".py",
   "mimetype": "text/x-python",
   "name": "python",
   "nbconvert_exporter": "python",
   "pygments_lexer": "ipython3",
   "version": "3.8.5"
  }
 },
 "nbformat": 4,
 "nbformat_minor": 2
}
